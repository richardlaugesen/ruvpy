{
 "cells": [
  {
   "attachments": {},
   "cell_type": "markdown",
   "metadata": {},
   "source": "# Is the cost-loss ratio still a suitable decsription of alpha? Are the average costs and losses equal to alpha?"
  },
  {
   "metadata": {},
   "cell_type": "markdown",
   "source": "## Logistic damages at 90th percentile threshold, risk neutral, 14-day moving average reference"
  },
  {
   "cell_type": "code",
   "metadata": {
    "ExecuteTime": {
     "end_time": "2024-08-22T23:41:08.852428Z",
     "start_time": "2024-08-22T23:41:08.848155Z"
    }
   },
   "source": [
    "# Copyright 2023 Richard Laugesen\n",
    "\n",
    "# Licensed under the Apache License, Version 2.0 (the \"License\");\n",
    "# you may not use this file except in compliance with the License.\n",
    "# You may obtain a copy of the License at\n",
    "\n",
    "#     https://www.apache.org/licenses/LICENSE-2.0\n",
    "\n",
    "# Unless required by applicable law or agreed to in writing, software\n",
    "# distributed under the License is distributed on an \"AS IS\" BASIS,\n",
    "# WITHOUT WARRANTIES OR CONDITIONS OF ANY KIND, either express or implied.\n",
    "# See the License for the specific language governing permissions and\n",
    "# limitations under the License."
   ],
   "outputs": [],
   "execution_count": 79
  },
  {
   "cell_type": "code",
   "metadata": {
    "ExecuteTime": {
     "end_time": "2024-08-22T23:41:08.870313Z",
     "start_time": "2024-08-22T23:41:08.865663Z"
    }
   },
   "source": [
    "import sys\n",
    "import numpy as np\n",
    "import pandas as pd\n",
    "import xarray as xr\n",
    "from fontTools.cffLib import encodeNumber\n",
    "from matplotlib import pyplot as plt\n",
    "import pickle\n",
    "import bz2\n",
    "\n",
    "from scipy.special import xlogy\n",
    "from xarray.util.generate_aggregations import skipna\n",
    "\n",
    "sys.path.append('..')\n",
    "\n",
    "from ruv.relative_utility_value import *\n",
    "from ruv.damage_functions import *\n",
    "from ruv.economic_models import *\n",
    "from ruv.utility_functions import *\n",
    "from ruv.helpers import *"
   ],
   "outputs": [],
   "execution_count": 80
  },
  {
   "cell_type": "code",
   "metadata": {
    "ExecuteTime": {
     "end_time": "2024-08-22T23:41:08.892239Z",
     "start_time": "2024-08-22T23:41:08.888754Z"
    }
   },
   "source": [
    "awrc = '405219'\n",
    "dataset_filepath = '%s_data.pickle.bz2' % awrc\n",
    "parallel_nodes = 6\n",
    "verbose = False"
   ],
   "outputs": [],
   "execution_count": 81
  },
  {
   "cell_type": "code",
   "metadata": {
    "ExecuteTime": {
     "end_time": "2024-08-22T23:41:09.128670Z",
     "start_time": "2024-08-22T23:41:08.915892Z"
    }
   },
   "source": [
    "with bz2.BZ2File(dataset_filepath, 'r') as f:\n",
    "    data = pickle.load(f)\n",
    "obs, clim_ens, fcst_ens = data['obs'], data['clim'], data['fcst']\n",
    "print(obs.shape, fcst_ens.shape, clim_ens.shape)"
   ],
   "outputs": [
    {
     "name": "stdout",
     "output_type": "stream",
     "text": [
      "(1932,) (1932, 100) (1932, 497)\n"
     ]
    }
   ],
   "execution_count": 82
  },
  {
   "metadata": {},
   "cell_type": "markdown",
   "source": "# Define decision context"
  },
  {
   "metadata": {
    "ExecuteTime": {
     "end_time": "2024-08-22T23:41:09.155627Z",
     "start_time": "2024-08-22T23:41:09.148060Z"
    }
   },
   "cell_type": "code",
   "source": [
    "ref = clim_ens\n",
    "\n",
    "alphas = np.array([0.1, 0.25, 0.5, 0.75, 0.9])\n",
    "\n",
    "decision_definition = {\n",
    "    'econ_pars': alphas,\n",
    "    'damage_function': [logistic_zero, {'A': 1, 'k': 0.5, 'threshold': np.nanquantile(obs, 0.75)}],\n",
    "    'economic_model': [cost_loss, cost_loss_analytical_spend],\n",
    "    #'decision_method': 'optimise_over_forecast_distribution',\n",
    "    #'decision_method': 'critical_probability_threshold_equals_par',\n",
    "    'decision_method': 'critical_probability_threshold_fixed',     # TODO: keeps returning almost flat value diagrams\n",
    "    #'decision_method': 'critical_probability_threshold_max_value',\n",
    "    'critical_probability_threshold': 0.25,\n",
    "    'utility_function': [cara, {'A': 0}],\n",
    "    'event_freq_ref': True\n",
    "}\n",
    "\n",
    "# Defining these outside the decision_definition dictionary allows \n",
    "# us to vary them as experimental variables later\n",
    "decision_types = ['Binary', 'Multicategorical', 'Continuous']\n",
    "\n",
    "binary_thresholds = np.insert(np.nanquantile(obs, [0.75]), 0, 0)\n",
    "multicategorical_thresholds = np.insert(np.nanquantile(obs, np.array([0.5, 0.75, 0.95])), 0, 0)"
   ],
   "outputs": [],
   "execution_count": 83
  },
  {
   "metadata": {},
   "cell_type": "markdown",
   "source": "# Calculate RUV"
  },
  {
   "metadata": {
    "ExecuteTime": {
     "end_time": "2024-08-22T23:42:33.463096Z",
     "start_time": "2024-08-22T23:41:09.177736Z"
    }
   },
   "cell_type": "code",
   "source": [
    "results = xr.DataArray(np.nan, dims=['alphas', 'decision_types'], coords={'alphas': alphas, 'decision_types': decision_types})\n",
    "\n",
    "detailed_results = {}\n",
    "    \n",
    "for decision_type in decision_types:\n",
    "    print(decision_type)\n",
    "\n",
    "    if decision_type == 'Binary':\n",
    "        decision_definition['decision_thresholds'] = binary_thresholds\n",
    "\n",
    "    elif decision_type == 'Multicategorical':\n",
    "        decision_definition['decision_thresholds'] = multicategorical_thresholds\n",
    "\n",
    "    elif decision_type == 'Continuous':\n",
    "        decision_definition['decision_thresholds'] = None\n",
    "\n",
    "    result = relative_utility_value(obs, fcst_ens, ref, decision_definition, parallel_nodes, verbose)\n",
    "    results.loc[:, decision_type] = result['ruv']\n",
    "    detailed_results[decision_type] = result"
   ],
   "outputs": [
    {
     "name": "stdout",
     "output_type": "stream",
     "text": [
      "Binary\n",
      "Multicategorical\n",
      "Continuous\n"
     ]
    }
   ],
   "execution_count": 84
  },
  {
   "cell_type": "code",
   "metadata": {
    "ExecuteTime": {
     "end_time": "2024-08-22T23:42:33.514630Z",
     "start_time": "2024-08-22T23:42:33.501873Z"
    }
   },
   "source": "results",
   "outputs": [
    {
     "data": {
      "text/plain": [
       "<xarray.DataArray (alphas: 5, decision_types: 3)> Size: 120B\n",
       "array([[ 0.79706088,  0.75737972,  0.78248227],\n",
       "       [ 0.89363191,  0.82536055,  0.81607423],\n",
       "       [ 0.77777778,  0.81981211,  0.70789825],\n",
       "       [ 0.42976939,  0.52606542,  0.32325434],\n",
       "       [-0.61425577, -0.35517466, -0.85504648]])\n",
       "Coordinates:\n",
       "  * alphas          (alphas) float64 40B 0.1 0.25 0.5 0.75 0.9\n",
       "  * decision_types  (decision_types) <U16 192B 'Binary' ... 'Continuous'"
      ],
      "text/html": [
       "<div><svg style=\"position: absolute; width: 0; height: 0; overflow: hidden\">\n",
       "<defs>\n",
       "<symbol id=\"icon-database\" viewBox=\"0 0 32 32\">\n",
       "<path d=\"M16 0c-8.837 0-16 2.239-16 5v4c0 2.761 7.163 5 16 5s16-2.239 16-5v-4c0-2.761-7.163-5-16-5z\"></path>\n",
       "<path d=\"M16 17c-8.837 0-16-2.239-16-5v6c0 2.761 7.163 5 16 5s16-2.239 16-5v-6c0 2.761-7.163 5-16 5z\"></path>\n",
       "<path d=\"M16 26c-8.837 0-16-2.239-16-5v6c0 2.761 7.163 5 16 5s16-2.239 16-5v-6c0 2.761-7.163 5-16 5z\"></path>\n",
       "</symbol>\n",
       "<symbol id=\"icon-file-text2\" viewBox=\"0 0 32 32\">\n",
       "<path d=\"M28.681 7.159c-0.694-0.947-1.662-2.053-2.724-3.116s-2.169-2.030-3.116-2.724c-1.612-1.182-2.393-1.319-2.841-1.319h-15.5c-1.378 0-2.5 1.121-2.5 2.5v27c0 1.378 1.122 2.5 2.5 2.5h23c1.378 0 2.5-1.122 2.5-2.5v-19.5c0-0.448-0.137-1.23-1.319-2.841zM24.543 5.457c0.959 0.959 1.712 1.825 2.268 2.543h-4.811v-4.811c0.718 0.556 1.584 1.309 2.543 2.268zM28 29.5c0 0.271-0.229 0.5-0.5 0.5h-23c-0.271 0-0.5-0.229-0.5-0.5v-27c0-0.271 0.229-0.5 0.5-0.5 0 0 15.499-0 15.5 0v7c0 0.552 0.448 1 1 1h7v19.5z\"></path>\n",
       "<path d=\"M23 26h-14c-0.552 0-1-0.448-1-1s0.448-1 1-1h14c0.552 0 1 0.448 1 1s-0.448 1-1 1z\"></path>\n",
       "<path d=\"M23 22h-14c-0.552 0-1-0.448-1-1s0.448-1 1-1h14c0.552 0 1 0.448 1 1s-0.448 1-1 1z\"></path>\n",
       "<path d=\"M23 18h-14c-0.552 0-1-0.448-1-1s0.448-1 1-1h14c0.552 0 1 0.448 1 1s-0.448 1-1 1z\"></path>\n",
       "</symbol>\n",
       "</defs>\n",
       "</svg>\n",
       "<style>/* CSS stylesheet for displaying xarray objects in jupyterlab.\n",
       " *\n",
       " */\n",
       "\n",
       ":root {\n",
       "  --xr-font-color0: var(--jp-content-font-color0, rgba(0, 0, 0, 1));\n",
       "  --xr-font-color2: var(--jp-content-font-color2, rgba(0, 0, 0, 0.54));\n",
       "  --xr-font-color3: var(--jp-content-font-color3, rgba(0, 0, 0, 0.38));\n",
       "  --xr-border-color: var(--jp-border-color2, #e0e0e0);\n",
       "  --xr-disabled-color: var(--jp-layout-color3, #bdbdbd);\n",
       "  --xr-background-color: var(--jp-layout-color0, white);\n",
       "  --xr-background-color-row-even: var(--jp-layout-color1, white);\n",
       "  --xr-background-color-row-odd: var(--jp-layout-color2, #eeeeee);\n",
       "}\n",
       "\n",
       "html[theme=dark],\n",
       "html[data-theme=dark],\n",
       "body[data-theme=dark],\n",
       "body.vscode-dark {\n",
       "  --xr-font-color0: rgba(255, 255, 255, 1);\n",
       "  --xr-font-color2: rgba(255, 255, 255, 0.54);\n",
       "  --xr-font-color3: rgba(255, 255, 255, 0.38);\n",
       "  --xr-border-color: #1F1F1F;\n",
       "  --xr-disabled-color: #515151;\n",
       "  --xr-background-color: #111111;\n",
       "  --xr-background-color-row-even: #111111;\n",
       "  --xr-background-color-row-odd: #313131;\n",
       "}\n",
       "\n",
       ".xr-wrap {\n",
       "  display: block !important;\n",
       "  min-width: 300px;\n",
       "  max-width: 700px;\n",
       "}\n",
       "\n",
       ".xr-text-repr-fallback {\n",
       "  /* fallback to plain text repr when CSS is not injected (untrusted notebook) */\n",
       "  display: none;\n",
       "}\n",
       "\n",
       ".xr-header {\n",
       "  padding-top: 6px;\n",
       "  padding-bottom: 6px;\n",
       "  margin-bottom: 4px;\n",
       "  border-bottom: solid 1px var(--xr-border-color);\n",
       "}\n",
       "\n",
       ".xr-header > div,\n",
       ".xr-header > ul {\n",
       "  display: inline;\n",
       "  margin-top: 0;\n",
       "  margin-bottom: 0;\n",
       "}\n",
       "\n",
       ".xr-obj-type,\n",
       ".xr-array-name {\n",
       "  margin-left: 2px;\n",
       "  margin-right: 10px;\n",
       "}\n",
       "\n",
       ".xr-obj-type {\n",
       "  color: var(--xr-font-color2);\n",
       "}\n",
       "\n",
       ".xr-sections {\n",
       "  padding-left: 0 !important;\n",
       "  display: grid;\n",
       "  grid-template-columns: 150px auto auto 1fr 20px 20px;\n",
       "}\n",
       "\n",
       ".xr-section-item {\n",
       "  display: contents;\n",
       "}\n",
       "\n",
       ".xr-section-item input {\n",
       "  display: none;\n",
       "}\n",
       "\n",
       ".xr-section-item input + label {\n",
       "  color: var(--xr-disabled-color);\n",
       "}\n",
       "\n",
       ".xr-section-item input:enabled + label {\n",
       "  cursor: pointer;\n",
       "  color: var(--xr-font-color2);\n",
       "}\n",
       "\n",
       ".xr-section-item input:enabled + label:hover {\n",
       "  color: var(--xr-font-color0);\n",
       "}\n",
       "\n",
       ".xr-section-summary {\n",
       "  grid-column: 1;\n",
       "  color: var(--xr-font-color2);\n",
       "  font-weight: 500;\n",
       "}\n",
       "\n",
       ".xr-section-summary > span {\n",
       "  display: inline-block;\n",
       "  padding-left: 0.5em;\n",
       "}\n",
       "\n",
       ".xr-section-summary-in:disabled + label {\n",
       "  color: var(--xr-font-color2);\n",
       "}\n",
       "\n",
       ".xr-section-summary-in + label:before {\n",
       "  display: inline-block;\n",
       "  content: '►';\n",
       "  font-size: 11px;\n",
       "  width: 15px;\n",
       "  text-align: center;\n",
       "}\n",
       "\n",
       ".xr-section-summary-in:disabled + label:before {\n",
       "  color: var(--xr-disabled-color);\n",
       "}\n",
       "\n",
       ".xr-section-summary-in:checked + label:before {\n",
       "  content: '▼';\n",
       "}\n",
       "\n",
       ".xr-section-summary-in:checked + label > span {\n",
       "  display: none;\n",
       "}\n",
       "\n",
       ".xr-section-summary,\n",
       ".xr-section-inline-details {\n",
       "  padding-top: 4px;\n",
       "  padding-bottom: 4px;\n",
       "}\n",
       "\n",
       ".xr-section-inline-details {\n",
       "  grid-column: 2 / -1;\n",
       "}\n",
       "\n",
       ".xr-section-details {\n",
       "  display: none;\n",
       "  grid-column: 1 / -1;\n",
       "  margin-bottom: 5px;\n",
       "}\n",
       "\n",
       ".xr-section-summary-in:checked ~ .xr-section-details {\n",
       "  display: contents;\n",
       "}\n",
       "\n",
       ".xr-array-wrap {\n",
       "  grid-column: 1 / -1;\n",
       "  display: grid;\n",
       "  grid-template-columns: 20px auto;\n",
       "}\n",
       "\n",
       ".xr-array-wrap > label {\n",
       "  grid-column: 1;\n",
       "  vertical-align: top;\n",
       "}\n",
       "\n",
       ".xr-preview {\n",
       "  color: var(--xr-font-color3);\n",
       "}\n",
       "\n",
       ".xr-array-preview,\n",
       ".xr-array-data {\n",
       "  padding: 0 5px !important;\n",
       "  grid-column: 2;\n",
       "}\n",
       "\n",
       ".xr-array-data,\n",
       ".xr-array-in:checked ~ .xr-array-preview {\n",
       "  display: none;\n",
       "}\n",
       "\n",
       ".xr-array-in:checked ~ .xr-array-data,\n",
       ".xr-array-preview {\n",
       "  display: inline-block;\n",
       "}\n",
       "\n",
       ".xr-dim-list {\n",
       "  display: inline-block !important;\n",
       "  list-style: none;\n",
       "  padding: 0 !important;\n",
       "  margin: 0;\n",
       "}\n",
       "\n",
       ".xr-dim-list li {\n",
       "  display: inline-block;\n",
       "  padding: 0;\n",
       "  margin: 0;\n",
       "}\n",
       "\n",
       ".xr-dim-list:before {\n",
       "  content: '(';\n",
       "}\n",
       "\n",
       ".xr-dim-list:after {\n",
       "  content: ')';\n",
       "}\n",
       "\n",
       ".xr-dim-list li:not(:last-child):after {\n",
       "  content: ',';\n",
       "  padding-right: 5px;\n",
       "}\n",
       "\n",
       ".xr-has-index {\n",
       "  font-weight: bold;\n",
       "}\n",
       "\n",
       ".xr-var-list,\n",
       ".xr-var-item {\n",
       "  display: contents;\n",
       "}\n",
       "\n",
       ".xr-var-item > div,\n",
       ".xr-var-item label,\n",
       ".xr-var-item > .xr-var-name span {\n",
       "  background-color: var(--xr-background-color-row-even);\n",
       "  margin-bottom: 0;\n",
       "}\n",
       "\n",
       ".xr-var-item > .xr-var-name:hover span {\n",
       "  padding-right: 5px;\n",
       "}\n",
       "\n",
       ".xr-var-list > li:nth-child(odd) > div,\n",
       ".xr-var-list > li:nth-child(odd) > label,\n",
       ".xr-var-list > li:nth-child(odd) > .xr-var-name span {\n",
       "  background-color: var(--xr-background-color-row-odd);\n",
       "}\n",
       "\n",
       ".xr-var-name {\n",
       "  grid-column: 1;\n",
       "}\n",
       "\n",
       ".xr-var-dims {\n",
       "  grid-column: 2;\n",
       "}\n",
       "\n",
       ".xr-var-dtype {\n",
       "  grid-column: 3;\n",
       "  text-align: right;\n",
       "  color: var(--xr-font-color2);\n",
       "}\n",
       "\n",
       ".xr-var-preview {\n",
       "  grid-column: 4;\n",
       "}\n",
       "\n",
       ".xr-index-preview {\n",
       "  grid-column: 2 / 5;\n",
       "  color: var(--xr-font-color2);\n",
       "}\n",
       "\n",
       ".xr-var-name,\n",
       ".xr-var-dims,\n",
       ".xr-var-dtype,\n",
       ".xr-preview,\n",
       ".xr-attrs dt {\n",
       "  white-space: nowrap;\n",
       "  overflow: hidden;\n",
       "  text-overflow: ellipsis;\n",
       "  padding-right: 10px;\n",
       "}\n",
       "\n",
       ".xr-var-name:hover,\n",
       ".xr-var-dims:hover,\n",
       ".xr-var-dtype:hover,\n",
       ".xr-attrs dt:hover {\n",
       "  overflow: visible;\n",
       "  width: auto;\n",
       "  z-index: 1;\n",
       "}\n",
       "\n",
       ".xr-var-attrs,\n",
       ".xr-var-data,\n",
       ".xr-index-data {\n",
       "  display: none;\n",
       "  background-color: var(--xr-background-color) !important;\n",
       "  padding-bottom: 5px !important;\n",
       "}\n",
       "\n",
       ".xr-var-attrs-in:checked ~ .xr-var-attrs,\n",
       ".xr-var-data-in:checked ~ .xr-var-data,\n",
       ".xr-index-data-in:checked ~ .xr-index-data {\n",
       "  display: block;\n",
       "}\n",
       "\n",
       ".xr-var-data > table {\n",
       "  float: right;\n",
       "}\n",
       "\n",
       ".xr-var-name span,\n",
       ".xr-var-data,\n",
       ".xr-index-name div,\n",
       ".xr-index-data,\n",
       ".xr-attrs {\n",
       "  padding-left: 25px !important;\n",
       "}\n",
       "\n",
       ".xr-attrs,\n",
       ".xr-var-attrs,\n",
       ".xr-var-data,\n",
       ".xr-index-data {\n",
       "  grid-column: 1 / -1;\n",
       "}\n",
       "\n",
       "dl.xr-attrs {\n",
       "  padding: 0;\n",
       "  margin: 0;\n",
       "  display: grid;\n",
       "  grid-template-columns: 125px auto;\n",
       "}\n",
       "\n",
       ".xr-attrs dt,\n",
       ".xr-attrs dd {\n",
       "  padding: 0;\n",
       "  margin: 0;\n",
       "  float: left;\n",
       "  padding-right: 10px;\n",
       "  width: auto;\n",
       "}\n",
       "\n",
       ".xr-attrs dt {\n",
       "  font-weight: normal;\n",
       "  grid-column: 1;\n",
       "}\n",
       "\n",
       ".xr-attrs dt:hover span {\n",
       "  display: inline-block;\n",
       "  background: var(--xr-background-color);\n",
       "  padding-right: 10px;\n",
       "}\n",
       "\n",
       ".xr-attrs dd {\n",
       "  grid-column: 2;\n",
       "  white-space: pre-wrap;\n",
       "  word-break: break-all;\n",
       "}\n",
       "\n",
       ".xr-icon-database,\n",
       ".xr-icon-file-text2,\n",
       ".xr-no-icon {\n",
       "  display: inline-block;\n",
       "  vertical-align: middle;\n",
       "  width: 1em;\n",
       "  height: 1.5em !important;\n",
       "  stroke-width: 0;\n",
       "  stroke: currentColor;\n",
       "  fill: currentColor;\n",
       "}\n",
       "</style><pre class='xr-text-repr-fallback'>&lt;xarray.DataArray (alphas: 5, decision_types: 3)&gt; Size: 120B\n",
       "array([[ 0.79706088,  0.75737972,  0.78248227],\n",
       "       [ 0.89363191,  0.82536055,  0.81607423],\n",
       "       [ 0.77777778,  0.81981211,  0.70789825],\n",
       "       [ 0.42976939,  0.52606542,  0.32325434],\n",
       "       [-0.61425577, -0.35517466, -0.85504648]])\n",
       "Coordinates:\n",
       "  * alphas          (alphas) float64 40B 0.1 0.25 0.5 0.75 0.9\n",
       "  * decision_types  (decision_types) &lt;U16 192B &#x27;Binary&#x27; ... &#x27;Continuous&#x27;</pre><div class='xr-wrap' style='display:none'><div class='xr-header'><div class='xr-obj-type'>xarray.DataArray</div><div class='xr-array-name'></div><ul class='xr-dim-list'><li><span class='xr-has-index'>alphas</span>: 5</li><li><span class='xr-has-index'>decision_types</span>: 3</li></ul></div><ul class='xr-sections'><li class='xr-section-item'><div class='xr-array-wrap'><input id='section-acb2812d-0da6-4147-b8f7-6d362d1cda0b' class='xr-array-in' type='checkbox' checked><label for='section-acb2812d-0da6-4147-b8f7-6d362d1cda0b' title='Show/hide data repr'><svg class='icon xr-icon-database'><use xlink:href='#icon-database'></use></svg></label><div class='xr-array-preview xr-preview'><span>0.7971 0.7574 0.7825 0.8936 0.8254 ... 0.3233 -0.6143 -0.3552 -0.855</span></div><div class='xr-array-data'><pre>array([[ 0.79706088,  0.75737972,  0.78248227],\n",
       "       [ 0.89363191,  0.82536055,  0.81607423],\n",
       "       [ 0.77777778,  0.81981211,  0.70789825],\n",
       "       [ 0.42976939,  0.52606542,  0.32325434],\n",
       "       [-0.61425577, -0.35517466, -0.85504648]])</pre></div></div></li><li class='xr-section-item'><input id='section-aec65ae2-0f8b-4331-95b5-3939b94ff415' class='xr-section-summary-in' type='checkbox'  checked><label for='section-aec65ae2-0f8b-4331-95b5-3939b94ff415' class='xr-section-summary' >Coordinates: <span>(2)</span></label><div class='xr-section-inline-details'></div><div class='xr-section-details'><ul class='xr-var-list'><li class='xr-var-item'><div class='xr-var-name'><span class='xr-has-index'>alphas</span></div><div class='xr-var-dims'>(alphas)</div><div class='xr-var-dtype'>float64</div><div class='xr-var-preview xr-preview'>0.1 0.25 0.5 0.75 0.9</div><input id='attrs-b60e6525-f969-4b9f-88c1-549a8ca4b232' class='xr-var-attrs-in' type='checkbox' disabled><label for='attrs-b60e6525-f969-4b9f-88c1-549a8ca4b232' title='Show/Hide attributes'><svg class='icon xr-icon-file-text2'><use xlink:href='#icon-file-text2'></use></svg></label><input id='data-e894c361-e2c2-43e8-8606-ed13c11b5fdd' class='xr-var-data-in' type='checkbox'><label for='data-e894c361-e2c2-43e8-8606-ed13c11b5fdd' title='Show/Hide data repr'><svg class='icon xr-icon-database'><use xlink:href='#icon-database'></use></svg></label><div class='xr-var-attrs'><dl class='xr-attrs'></dl></div><div class='xr-var-data'><pre>array([0.1 , 0.25, 0.5 , 0.75, 0.9 ])</pre></div></li><li class='xr-var-item'><div class='xr-var-name'><span class='xr-has-index'>decision_types</span></div><div class='xr-var-dims'>(decision_types)</div><div class='xr-var-dtype'>&lt;U16</div><div class='xr-var-preview xr-preview'>&#x27;Binary&#x27; ... &#x27;Continuous&#x27;</div><input id='attrs-413b3e22-e056-4af1-aecf-bcb8bbf3aa68' class='xr-var-attrs-in' type='checkbox' disabled><label for='attrs-413b3e22-e056-4af1-aecf-bcb8bbf3aa68' title='Show/Hide attributes'><svg class='icon xr-icon-file-text2'><use xlink:href='#icon-file-text2'></use></svg></label><input id='data-af93cf48-2b6b-47db-85ba-25c619fb8394' class='xr-var-data-in' type='checkbox'><label for='data-af93cf48-2b6b-47db-85ba-25c619fb8394' title='Show/Hide data repr'><svg class='icon xr-icon-database'><use xlink:href='#icon-database'></use></svg></label><div class='xr-var-attrs'><dl class='xr-attrs'></dl></div><div class='xr-var-data'><pre>array([&#x27;Binary&#x27;, &#x27;Multicategorical&#x27;, &#x27;Continuous&#x27;], dtype=&#x27;&lt;U16&#x27;)</pre></div></li></ul></div></li><li class='xr-section-item'><input id='section-2b95ebfc-7072-461c-a48d-c18cfffd0808' class='xr-section-summary-in' type='checkbox'  ><label for='section-2b95ebfc-7072-461c-a48d-c18cfffd0808' class='xr-section-summary' >Indexes: <span>(2)</span></label><div class='xr-section-inline-details'></div><div class='xr-section-details'><ul class='xr-var-list'><li class='xr-var-item'><div class='xr-index-name'><div>alphas</div></div><div class='xr-index-preview'>PandasIndex</div><div></div><input id='index-3fe93929-152e-41d6-a6b0-6194cc77bb20' class='xr-index-data-in' type='checkbox'/><label for='index-3fe93929-152e-41d6-a6b0-6194cc77bb20' title='Show/Hide index repr'><svg class='icon xr-icon-database'><use xlink:href='#icon-database'></use></svg></label><div class='xr-index-data'><pre>PandasIndex(Index([0.1, 0.25, 0.5, 0.75, 0.9], dtype=&#x27;float64&#x27;, name=&#x27;alphas&#x27;))</pre></div></li><li class='xr-var-item'><div class='xr-index-name'><div>decision_types</div></div><div class='xr-index-preview'>PandasIndex</div><div></div><input id='index-171bc5bd-cec4-45a7-83fa-5bd042c92aa7' class='xr-index-data-in' type='checkbox'/><label for='index-171bc5bd-cec4-45a7-83fa-5bd042c92aa7' title='Show/Hide index repr'><svg class='icon xr-icon-database'><use xlink:href='#icon-database'></use></svg></label><div class='xr-index-data'><pre>PandasIndex(Index([&#x27;Binary&#x27;, &#x27;Multicategorical&#x27;, &#x27;Continuous&#x27;], dtype=&#x27;object&#x27;, name=&#x27;decision_types&#x27;))</pre></div></li></ul></div></li><li class='xr-section-item'><input id='section-c8d5182b-5aff-44c6-af2b-8e589dc0ca2f' class='xr-section-summary-in' type='checkbox' disabled ><label for='section-c8d5182b-5aff-44c6-af2b-8e589dc0ca2f' class='xr-section-summary'  title='Expand/collapse section'>Attributes: <span>(0)</span></label><div class='xr-section-inline-details'></div><div class='xr-section-details'><dl class='xr-attrs'></dl></div></li></ul></div></div>"
      ]
     },
     "execution_count": 85,
     "metadata": {},
     "output_type": "execute_result"
    }
   ],
   "execution_count": 85
  },
  {
   "metadata": {},
   "cell_type": "markdown",
   "source": "# Plot RUV"
  },
  {
   "metadata": {
    "ExecuteTime": {
     "end_time": "2024-08-22T23:42:33.794393Z",
     "start_time": "2024-08-22T23:42:33.543383Z"
    }
   },
   "cell_type": "code",
   "source": [
    "df = results.to_pandas()\n",
    "df.plot(ylim=(0,1), kind='line', title='Value diagram', xlabel='Alpha', ylabel='RUV')"
   ],
   "outputs": [
    {
     "data": {
      "text/plain": [
       "<Axes: title={'center': 'Value diagram'}, xlabel='Alpha', ylabel='RUV'>"
      ]
     },
     "execution_count": 86,
     "metadata": {},
     "output_type": "execute_result"
    },
    {
     "data": {
      "text/plain": [
       "<Figure size 640x480 with 1 Axes>"
      ],
      "image/png": "[encoded data removed]"
     },
     "metadata": {},
     "output_type": "display_data"
    }
   ],
   "execution_count": 86
  },
  {
   "metadata": {
    "ExecuteTime": {
     "end_time": "2024-08-22T23:42:33.821768Z",
     "start_time": "2024-08-22T23:42:33.816876Z"
    }
   },
   "cell_type": "code",
   "source": "detailed_results['Multicategorical'].keys()",
   "outputs": [
    {
     "data": {
      "text/plain": [
       "dict_keys(['ruv', 'avg_fcst_ex_post', 'avg_ref_ex_post', 'avg_obs_ex_post', 'fcst_spends', 'ref_spends', 'obs_spends', 'fcst_ex_ante', 'ref_ex_ante', 'obs_ex_ante', 'fcst_ex_post', 'ref_ex_post', 'obs_ex_post', 'fcst_expected_damages', 'ref_expected_damages', 'obs_expected_damages'])"
      ]
     },
     "execution_count": 87,
     "metadata": {},
     "output_type": "execute_result"
    }
   ],
   "execution_count": 87
  },
  {
   "metadata": {
    "ExecuteTime": {
     "end_time": "2024-08-22T23:42:33.853519Z",
     "start_time": "2024-08-22T23:42:33.840114Z"
    }
   },
   "cell_type": "code",
   "source": [
    "RED = \"\\033[91m\"\n",
    "GREEN = \"\\033[92m\"\n",
    "RESET = \"\\033[0m\"\n",
    "\n",
    "for decision_type in decision_types:\n",
    "    for data_type in ['fcst']:\n",
    "        costs = detailed_results[decision_type]['%s_spends' % data_type]\n",
    "        losses = detailed_results[decision_type]['obs_expected_damages']        \n",
    "        \n",
    "        for i, alpha in enumerate(alphas):       \n",
    "            costs_losses = pd.DataFrame({'costs': costs[i, :], 'losses': losses[i, :]})\n",
    "                               \n",
    "            # avg_costs_losses = costs_losses.mean(skipna=True)     \n",
    "            # cost_loss_calc = avg_costs_losses['costs'] / avg_costs_losses['losses'] if avg_costs_losses['losses'] != 0 else -99            \n",
    "\n",
    "            cost_loss_ratios = costs_losses['costs'] / costs_losses['losses']\n",
    "            cost_loss_ratios.replace([np.inf, -np.inf], np.nan, inplace=True)\n",
    "            cost_loss_calc = cost_loss_ratios.mean(skipna=True)\n",
    "            \n",
    "            is_close = np.isclose(alpha, cost_loss_calc, 1e-1)\n",
    "            closeness = f'{GREEN}[is_close=%s]{RESET}' % is_close if is_close else f'{RED}[is_close=%s]{RESET}' % is_close\n",
    "            print(f'%s %s-%s alpha=%.2f cost_loss_ratio=%.2f' % (closeness, decision_type, data_type, alpha, cost_loss_calc))  "
   ],
   "outputs": [
    {
     "name": "stdout",
     "output_type": "stream",
     "text": [
      "\u001B[92m[is_close=True]\u001B[0m Binary-fcst alpha=0.10 cost_loss_ratio=0.10\n",
      "\u001B[92m[is_close=True]\u001B[0m Binary-fcst alpha=0.25 cost_loss_ratio=0.24\n",
      "\u001B[92m[is_close=True]\u001B[0m Binary-fcst alpha=0.50 cost_loss_ratio=0.48\n",
      "\u001B[92m[is_close=True]\u001B[0m Binary-fcst alpha=0.75 cost_loss_ratio=0.71\n",
      "\u001B[92m[is_close=True]\u001B[0m Binary-fcst alpha=0.90 cost_loss_ratio=0.86\n",
      "\u001B[92m[is_close=True]\u001B[0m Multicategorical-fcst alpha=0.10 cost_loss_ratio=0.10\n",
      "\u001B[92m[is_close=True]\u001B[0m Multicategorical-fcst alpha=0.25 cost_loss_ratio=0.26\n",
      "\u001B[92m[is_close=True]\u001B[0m Multicategorical-fcst alpha=0.50 cost_loss_ratio=0.51\n",
      "\u001B[92m[is_close=True]\u001B[0m Multicategorical-fcst alpha=0.75 cost_loss_ratio=0.77\n",
      "\u001B[92m[is_close=True]\u001B[0m Multicategorical-fcst alpha=0.90 cost_loss_ratio=0.92\n",
      "\u001B[92m[is_close=True]\u001B[0m Continuous-fcst alpha=0.10 cost_loss_ratio=0.10\n",
      "\u001B[92m[is_close=True]\u001B[0m Continuous-fcst alpha=0.25 cost_loss_ratio=0.26\n",
      "\u001B[92m[is_close=True]\u001B[0m Continuous-fcst alpha=0.50 cost_loss_ratio=0.52\n",
      "\u001B[92m[is_close=True]\u001B[0m Continuous-fcst alpha=0.75 cost_loss_ratio=0.78\n",
      "\u001B[92m[is_close=True]\u001B[0m Continuous-fcst alpha=0.90 cost_loss_ratio=0.93\n"
     ]
    }
   ],
   "execution_count": 88
  },
  {
   "metadata": {},
   "cell_type": "markdown",
   "source": [
    "# analysis\n",
    "- Cost-loss ratio calculated using the expected damages as the losses (ex ante forecast likelihoods x damages for each threshold) \n",
    "- Only matches alpha unless when using deterministic data (ie. decision threshold which converts ensemble to deterministic)\n",
    "- So, this method of expected damages is not a suitable description of alpha\n",
    "- Could try a different way to estimate losses (actual ex post loss suffered)\n",
    "- Ref should be left ensemble and not converted to deterministic, if someone wants to assess with a deterministic reference they should have to explicitly do this"
   ]
  },
  {
   "metadata": {
    "ExecuteTime": {
     "end_time": "2024-08-22T23:42:33.874202Z",
     "start_time": "2024-08-22T23:42:33.871441Z"
    }
   },
   "cell_type": "code",
   "source": "",
   "outputs": [],
   "execution_count": null
  }
 ],
 "metadata": {
  "kernelspec": {
   "display_name": "base",
   "language": "python",
   "name": "python3"
  },
  "language_info": {
   "codemirror_mode": {
    "name": "ipython",
    "version": 3
   },
   "file_extension": ".py",
   "mimetype": "text/x-python",
   "name": "python",
   "nbconvert_exporter": "python",
   "pygments_lexer": "ipython3",
   "version": "3.9.17"
  },
  "orig_nbformat": 4
 },
 "nbformat": 4,
 "nbformat_minor": 2
}

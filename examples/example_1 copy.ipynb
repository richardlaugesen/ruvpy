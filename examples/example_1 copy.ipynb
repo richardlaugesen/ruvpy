{
 "cells": [
  {
   "cell_type": "code",
   "execution_count": 1,
   "metadata": {},
   "outputs": [
    {
     "name": "stdout",
     "output_type": "stream",
     "text": [
      "(5796,) (5796, 100) (5796, 484)\n"
     ]
    }
   ],
   "source": [
    "import sys\n",
    "import pickle\n",
    "import bz2\n",
    "from matplotlib import pyplot as plt\n",
    "\n",
    "sys.path.append('..')\n",
    "\n",
    "from ruv.relative_utility_value import *\n",
    "from ruv.damage_functions import *\n",
    "from ruv.economic_models import *\n",
    "from ruv.utility_functions import *\n",
    "from ruv.helpers import *\n",
    "\n",
    "awrc = '401012'\n",
    "dataset_filepath = '%s_data.pickle.bz2' % awrc\n",
    "parallel_nodes = 8\n",
    "alpha_step = 0.5\n",
    "\n",
    "with bz2.BZ2File(dataset_filepath, 'r') as f:\n",
    "    data = pickle.load(f)\n",
    "obs, clim_ens, fcst_ens = data['obs'], data['clim'], data['fcst']\n",
    "\n",
    "obs = np.concatenate([obs, obs, obs])\n",
    "clim_ens = np.concatenate([clim_ens, clim_ens, clim_ens])\n",
    "fcst_ens = np.concatenate([fcst_ens, fcst_ens, fcst_ens])\n",
    "\n",
    "print(obs.shape, fcst_ens.shape, clim_ens.shape)\n",
    "\n",
    "decision_threshold = np.nanquantile(obs, 0.75)\n",
    "\n",
    "decision_definition = {\n",
    "    'alphas': np.arange(alpha_step, 1, alpha_step),\n",
    "    'damage_function': [binary, {'max_loss': 1, 'min_loss': 0, 'threshold': decision_threshold}],        \n",
    "    'utility_function': [cara, {'A': 0}],\n",
    "    'economic_model': [cost_loss, cost_loss_analytical_spend],\n",
    "    'decision_thresholds': np.insert([decision_threshold], 0, 0),\n",
    "    'event_freq_ref': True\n",
    "}\n",
    "\n",
    "ref = clim_ens\n",
    "\n",
    "decision_definition['decision_method'] = 'optimise_over_forecast_distribution'"
   ]
  },
  {
   "cell_type": "code",
   "execution_count": 2,
   "metadata": {},
   "outputs": [
    {
     "name": "stderr",
     "output_type": "stream",
     "text": [
      "2023-11-15 00:22:35,082 - tornado.application - ERROR - Exception in callback <bound method BokehTornado._keep_alive of <bokeh.server.tornado.BokehTornado object at 0x000002384AD88BB0>>\n",
      "Traceback (most recent call last):\n",
      "  File \"c:\\Users\\me\\anaconda3\\lib\\site-packages\\tornado\\ioloop.py\", line 919, in _run\n",
      "    val = self.callback()\n",
      "  File \"c:\\Users\\me\\anaconda3\\lib\\site-packages\\bokeh\\server\\tornado.py\", line 779, in _keep_alive\n",
      "    c.send_ping()\n",
      "  File \"c:\\Users\\me\\anaconda3\\lib\\site-packages\\bokeh\\server\\connection.py\", line 91, in send_ping\n",
      "    self._socket.ping(str(self._ping_count).encode(\"utf-8\"))\n",
      "  File \"c:\\Users\\me\\anaconda3\\lib\\site-packages\\tornado\\websocket.py\", line 439, in ping\n",
      "    raise WebSocketClosedError()\n",
      "tornado.websocket.WebSocketClosedError\n",
      "2023-11-15 00:22:36,086 - tornado.application - ERROR - Exception in callback <bound method BokehTornado._keep_alive of <bokeh.server.tornado.BokehTornado object at 0x000002384AD88BB0>>\n",
      "Traceback (most recent call last):\n",
      "  File \"c:\\Users\\me\\anaconda3\\lib\\site-packages\\tornado\\ioloop.py\", line 919, in _run\n",
      "    val = self.callback()\n",
      "  File \"c:\\Users\\me\\anaconda3\\lib\\site-packages\\bokeh\\server\\tornado.py\", line 779, in _keep_alive\n",
      "    c.send_ping()\n",
      "  File \"c:\\Users\\me\\anaconda3\\lib\\site-packages\\bokeh\\server\\connection.py\", line 91, in send_ping\n",
      "    self._socket.ping(str(self._ping_count).encode(\"utf-8\"))\n",
      "  File \"c:\\Users\\me\\anaconda3\\lib\\site-packages\\tornado\\websocket.py\", line 439, in ping\n",
      "    raise WebSocketClosedError()\n",
      "tornado.websocket.WebSocketClosedError\n",
      "2023-11-15 00:22:37,477 - tornado.application - ERROR - Exception in callback <bound method BokehTornado._keep_alive of <bokeh.server.tornado.BokehTornado object at 0x000002384AD88BB0>>\n",
      "Traceback (most recent call last):\n",
      "  File \"c:\\Users\\me\\anaconda3\\lib\\site-packages\\tornado\\ioloop.py\", line 919, in _run\n",
      "    val = self.callback()\n",
      "  File \"c:\\Users\\me\\anaconda3\\lib\\site-packages\\bokeh\\server\\tornado.py\", line 779, in _keep_alive\n",
      "    c.send_ping()\n",
      "  File \"c:\\Users\\me\\anaconda3\\lib\\site-packages\\bokeh\\server\\connection.py\", line 91, in send_ping\n",
      "    self._socket.ping(str(self._ping_count).encode(\"utf-8\"))\n",
      "  File \"c:\\Users\\me\\anaconda3\\lib\\site-packages\\tornado\\websocket.py\", line 439, in ping\n",
      "    raise WebSocketClosedError()\n",
      "tornado.websocket.WebSocketClosedError\n",
      "2023-11-15 00:22:38,680 - tornado.application - ERROR - Exception in callback <bound method BokehTornado._keep_alive of <bokeh.server.tornado.BokehTornado object at 0x000002384AD88BB0>>\n",
      "Traceback (most recent call last):\n",
      "  File \"c:\\Users\\me\\anaconda3\\lib\\site-packages\\tornado\\ioloop.py\", line 919, in _run\n",
      "    val = self.callback()\n",
      "  File \"c:\\Users\\me\\anaconda3\\lib\\site-packages\\bokeh\\server\\tornado.py\", line 779, in _keep_alive\n",
      "    c.send_ping()\n",
      "  File \"c:\\Users\\me\\anaconda3\\lib\\site-packages\\bokeh\\server\\connection.py\", line 91, in send_ping\n",
      "    self._socket.ping(str(self._ping_count).encode(\"utf-8\"))\n",
      "  File \"c:\\Users\\me\\anaconda3\\lib\\site-packages\\tornado\\websocket.py\", line 439, in ping\n",
      "    raise WebSocketClosedError()\n",
      "tornado.websocket.WebSocketClosedError\n"
     ]
    },
    {
     "name": "stdout",
     "output_type": "stream",
     "text": [
      "Alpha: 0.500   RUV: 0.76\n"
     ]
    }
   ],
   "source": [
    "results_optim = relative_utility_value(obs, fcst_ens, ref, decision_definition, parallel_nodes, verbose=True)"
   ]
  },
  {
   "cell_type": "code",
   "execution_count": 3,
   "metadata": {},
   "outputs": [],
   "source": [
    "# 3 times as long, but only 1 alpha value\n",
    "pathos = 18.6\n",
    "dask_lowlevel_client = 20.3\n",
    "dask_highlevel_client = 19.0"
   ]
  },
  {
   "cell_type": "code",
   "execution_count": 4,
   "metadata": {},
   "outputs": [],
   "source": [
    "# 3 times as long, but only 3 alpha value\n",
    "pathos = 1\n",
    "dask_lowlevel_client = 82\n",
    "dask_highlevel_client = 84"
   ]
  },
  {
   "cell_type": "code",
   "execution_count": 5,
   "metadata": {},
   "outputs": [],
   "source": [
    "# 8 core - normal length\n",
    "pathos = 21\n",
    "dask_threads_1 = 43\n",
    "dask_threads_4 = 41\n",
    "dask_threads_sqrt = 34\n",
    "dask_threads_sqrt_time_2 = 38\n",
    "dask_threads_sqrt_div_2 = 59\n",
    "dask_processes_1 = 54\n",
    "dask_processes_sqrt = 198\n",
    "dask_single_threaded = 42"
   ]
  },
  {
   "cell_type": "code",
   "execution_count": 6,
   "metadata": {},
   "outputs": [],
   "source": [
    "# 8 core - 5 times length\n",
    "pathos = '7m 16s'\n",
    "dask_threads_sqrt = '3m 29s'\n",
    "dask_client = '3m 29s'"
   ]
  },
  {
   "cell_type": "code",
   "execution_count": 7,
   "metadata": {},
   "outputs": [
    {
     "data": {
      "text/plain": [
       "[<matplotlib.lines.Line2D at 0x23844aab430>]"
      ]
     },
     "execution_count": 7,
     "metadata": {},
     "output_type": "execute_result"
    },
    {
     "data": {
      "image/png": "[encoded data removed]",
      "text/plain": [
       "<Figure size 640x480 with 1 Axes>"
      ]
     },
     "metadata": {},
     "output_type": "display_data"
    }
   ],
   "source": [
    "plt.plot(decision_definition['alphas'], results_optim['ruv'])"
   ]
  },
  {
   "cell_type": "code",
   "execution_count": null,
   "metadata": {},
   "outputs": [],
   "source": []
  }
 ],
 "metadata": {
  "kernelspec": {
   "display_name": "base",
   "language": "python",
   "name": "python3"
  },
  "language_info": {
   "codemirror_mode": {
    "name": "ipython",
    "version": 3
   },
   "file_extension": ".py",
   "mimetype": "text/x-python",
   "name": "python",
   "nbconvert_exporter": "python",
   "pygments_lexer": "ipython3",
   "version": "3.9.18"
  },
  "orig_nbformat": 4
 },
 "nbformat": 4,
 "nbformat_minor": 2
}

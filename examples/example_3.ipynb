{
 "cells": [
  {
   "cell_type": "markdown",
   "metadata": {},
   "source": [
    "# Bootstrap the RUV metric and display on a value diagram "
   ]
  },
  {
   "cell_type": "code",
   "execution_count": 1,
   "metadata": {},
   "outputs": [],
   "source": [
    "# Copyright 2023 Richard Laugesen\n",
    "\n",
    "# Licensed under the Apache License, Version 2.0 (the \"License\");\n",
    "# you may not use this file except in compliance with the License.\n",
    "# You may obtain a copy of the License at\n",
    "\n",
    "#     https://www.apache.org/licenses/LICENSE-2.0\n",
    "\n",
    "# Unless required by applicable law or agreed to in writing, software\n",
    "# distributed under the License is distributed on an \"AS IS\" BASIS,\n",
    "# WITHOUT WARRANTIES OR CONDITIONS OF ANY KIND, either express or implied.\n",
    "# See the License for the specific language governing permissions and\n",
    "# limitations under the License."
   ]
  },
  {
   "cell_type": "code",
   "execution_count": 2,
   "metadata": {},
   "outputs": [],
   "source": [
    "import sys\n",
    "import numpy as np\n",
    "import pandas as pd\n",
    "from matplotlib import pyplot as plt\n",
    "import pickle\n",
    "import bz2\n",
    "\n",
    "sys.path.append('..')\n",
    "\n",
    "from ruv.relative_utility_value import *\n",
    "from ruv.damage_functions import *\n",
    "from ruv.economic_models import *\n",
    "from ruv.utility_functions import *"
   ]
  },
  {
   "cell_type": "code",
   "execution_count": 3,
   "metadata": {},
   "outputs": [],
   "source": [
    "plt.rcParams['figure.figsize'] = (8, 7)\n",
    "\n",
    "plt.rcParams['font.family'] = \"calibri\"\n",
    "plt.rcParams['font.size'] = \"12.5\"\n",
    "\n",
    "colors = {\n",
    "    'black': '#000000',\n",
    "    'light_orange': '#E69F00',\n",
    "    'light_blue': '#56B4E9',\n",
    "    'green': '#009E73',\n",
    "    'yellow': '#F0E442',\n",
    "    'dark_blue': '#0072B2',\n",
    "    'dark_orange': '#D55E00',\n",
    "    'pink': '#CC79A7'\n",
    "} "
   ]
  },
  {
   "cell_type": "markdown",
   "metadata": {},
   "source": [
    "# Example forecast dataset\n",
    "### 7th day ahead forecast for Murray at Biggara (401012) generated using the MuTHRE method"
   ]
  },
  {
   "cell_type": "code",
   "execution_count": 4,
   "metadata": {},
   "outputs": [],
   "source": [
    "dataset_filepath = 'example_data.pickle.bz2'\n",
    "parallel_nodes = 28\n",
    "alpha_step = 0.01\n",
    "bootstrap_samples = 1000\n",
    "confidence_level = 0.95\n",
    "verbose = True"
   ]
  },
  {
   "cell_type": "code",
   "execution_count": 5,
   "metadata": {},
   "outputs": [
    {
     "name": "stdout",
     "output_type": "stream",
     "text": [
      "(276,) (276, 100) (276, 496)\n"
     ]
    }
   ],
   "source": [
    "with bz2.BZ2File(dataset_filepath, 'r') as f:\n",
    "    data = pickle.load(f)\n",
    "obs, clim_ens, fcst_ens = data['obs'], data['clim'].T, data['fcst'].T\n",
    "print(obs.shape, fcst_ens.shape, clim_ens.shape)"
   ]
  },
  {
   "cell_type": "markdown",
   "metadata": {},
   "source": [
    "# Define decision context"
   ]
  },
  {
   "cell_type": "code",
   "execution_count": 8,
   "metadata": {},
   "outputs": [],
   "source": [
    "decision_definition = {\n",
    "    'alphas': np.arange(alpha_step, 1, alpha_step),\n",
    "    'damage_function': [binary, {'max_loss': 1, 'min_loss': 0, 'threshold': 0.75}],\n",
    "    'utility_function': [cara, {'A': 0}],\n",
    "    'economic_model': [cost_loss, cost_loss_analytical_spend],\n",
    "    'decision_thresholds': np.nanquantile(obs, [0, 0.75])\n",
    "}\n",
    "\n",
    "# 'decision_method' defaults to 'optimise_over_forecast_distribution'\n",
    "\n",
    "ref = None  # use event frequency as the reference forecast"
   ]
  },
  {
   "cell_type": "markdown",
   "metadata": {},
   "source": [
    "# Calculate RUV and run a bootstrap to find confidence intervals of the metric"
   ]
  },
  {
   "cell_type": "code",
   "execution_count": 9,
   "metadata": {},
   "outputs": [
    {
     "name": "stdout",
     "output_type": "stream",
     "text": [
      "Bootstrap will take approximatly 504 minutes\n",
      "Bootstrap sample: 5 / 1000\n",
      "Bootstrap sample: 10 / 1000\n",
      "Bootstrap sample: 15 / 1000\n",
      "Bootstrap sample: 20 / 1000\n",
      "Bootstrap sample: 25 / 1000\n",
      "Bootstrap sample: 30 / 1000\n",
      "Bootstrap sample: 35 / 1000\n",
      "Bootstrap sample: 40 / 1000\n",
      "Bootstrap sample: 45 / 1000\n",
      "Bootstrap sample: 50 / 1000\n",
      "Bootstrap sample: 55 / 1000\n",
      "Bootstrap sample: 60 / 1000\n",
      "Bootstrap sample: 65 / 1000\n",
      "Bootstrap sample: 70 / 1000\n",
      "Bootstrap sample: 75 / 1000\n",
      "Bootstrap sample: 80 / 1000\n",
      "Bootstrap sample: 85 / 1000\n",
      "Bootstrap sample: 90 / 1000\n",
      "Bootstrap sample: 95 / 1000\n",
      "Bootstrap sample: 100 / 1000\n",
      "Bootstrap sample: 105 / 1000\n",
      "Bootstrap sample: 110 / 1000\n",
      "Bootstrap sample: 115 / 1000\n",
      "Bootstrap sample: 120 / 1000\n",
      "Bootstrap sample: 125 / 1000\n",
      "Bootstrap sample: 130 / 1000\n",
      "Bootstrap sample: 135 / 1000\n",
      "Bootstrap sample: 140 / 1000\n",
      "Bootstrap sample: 145 / 1000\n",
      "Bootstrap sample: 150 / 1000\n",
      "Bootstrap sample: 155 / 1000\n",
      "Bootstrap sample: 160 / 1000\n",
      "Bootstrap sample: 165 / 1000\n",
      "Bootstrap sample: 170 / 1000\n",
      "Bootstrap sample: 175 / 1000\n",
      "Bootstrap sample: 180 / 1000\n",
      "Bootstrap sample: 185 / 1000\n",
      "Bootstrap sample: 190 / 1000\n",
      "Bootstrap sample: 195 / 1000\n",
      "Bootstrap sample: 200 / 1000\n",
      "Bootstrap sample: 205 / 1000\n",
      "Bootstrap sample: 210 / 1000\n",
      "Bootstrap sample: 215 / 1000\n",
      "Bootstrap sample: 220 / 1000\n",
      "Bootstrap sample: 225 / 1000\n",
      "Bootstrap sample: 230 / 1000\n",
      "Bootstrap sample: 235 / 1000\n",
      "Bootstrap sample: 240 / 1000\n",
      "Bootstrap sample: 245 / 1000\n",
      "Bootstrap sample: 250 / 1000\n",
      "Bootstrap sample: 255 / 1000\n",
      "Bootstrap sample: 260 / 1000\n",
      "Bootstrap sample: 265 / 1000\n",
      "Bootstrap sample: 270 / 1000\n",
      "Bootstrap sample: 275 / 1000\n",
      "Bootstrap sample: 280 / 1000\n",
      "Bootstrap sample: 285 / 1000\n",
      "Bootstrap sample: 290 / 1000\n",
      "Bootstrap sample: 295 / 1000\n",
      "Bootstrap sample: 300 / 1000\n",
      "Bootstrap sample: 305 / 1000\n",
      "Bootstrap sample: 310 / 1000\n",
      "Bootstrap sample: 315 / 1000\n",
      "Bootstrap sample: 320 / 1000\n",
      "Bootstrap sample: 325 / 1000\n",
      "Bootstrap sample: 330 / 1000\n",
      "Bootstrap sample: 335 / 1000\n",
      "Bootstrap sample: 340 / 1000\n",
      "Bootstrap sample: 345 / 1000\n",
      "Bootstrap sample: 350 / 1000\n",
      "Bootstrap sample: 355 / 1000\n",
      "Bootstrap sample: 360 / 1000\n",
      "Bootstrap sample: 365 / 1000\n",
      "Bootstrap sample: 370 / 1000\n",
      "Bootstrap sample: 375 / 1000\n",
      "Bootstrap sample: 380 / 1000\n",
      "Bootstrap sample: 385 / 1000\n",
      "Bootstrap sample: 390 / 1000\n",
      "Bootstrap sample: 395 / 1000\n",
      "Bootstrap sample: 400 / 1000\n",
      "Bootstrap sample: 405 / 1000\n",
      "Bootstrap sample: 410 / 1000\n",
      "Bootstrap sample: 415 / 1000\n",
      "Bootstrap sample: 420 / 1000\n",
      "Bootstrap sample: 425 / 1000\n",
      "Bootstrap sample: 430 / 1000\n",
      "Bootstrap sample: 435 / 1000\n",
      "Bootstrap sample: 440 / 1000\n",
      "Bootstrap sample: 445 / 1000\n",
      "Bootstrap sample: 450 / 1000\n",
      "Bootstrap sample: 455 / 1000\n",
      "Bootstrap sample: 460 / 1000\n",
      "Bootstrap sample: 465 / 1000\n",
      "Bootstrap sample: 470 / 1000\n",
      "Bootstrap sample: 475 / 1000\n",
      "Bootstrap sample: 480 / 1000\n",
      "Bootstrap sample: 485 / 1000\n",
      "Bootstrap sample: 490 / 1000\n",
      "Bootstrap sample: 495 / 1000\n",
      "Bootstrap sample: 500 / 1000\n",
      "Bootstrap sample: 505 / 1000\n",
      "Bootstrap sample: 510 / 1000\n",
      "Bootstrap sample: 515 / 1000\n",
      "Bootstrap sample: 520 / 1000\n",
      "Bootstrap sample: 525 / 1000\n",
      "Bootstrap sample: 530 / 1000\n",
      "Bootstrap sample: 535 / 1000\n",
      "Bootstrap sample: 540 / 1000\n",
      "Bootstrap sample: 545 / 1000\n",
      "Bootstrap sample: 550 / 1000\n",
      "Bootstrap sample: 555 / 1000\n",
      "Bootstrap sample: 560 / 1000\n",
      "Bootstrap sample: 565 / 1000\n",
      "Bootstrap sample: 570 / 1000\n",
      "Bootstrap sample: 575 / 1000\n",
      "Bootstrap sample: 580 / 1000\n",
      "Bootstrap sample: 585 / 1000\n",
      "Bootstrap sample: 590 / 1000\n",
      "Bootstrap sample: 595 / 1000\n",
      "Bootstrap sample: 600 / 1000\n",
      "Bootstrap sample: 605 / 1000\n",
      "Bootstrap sample: 610 / 1000\n",
      "Bootstrap sample: 615 / 1000\n",
      "Bootstrap sample: 620 / 1000\n",
      "Bootstrap sample: 625 / 1000\n",
      "Bootstrap sample: 630 / 1000\n",
      "Bootstrap sample: 635 / 1000\n",
      "Bootstrap sample: 640 / 1000\n",
      "Bootstrap sample: 645 / 1000\n",
      "Bootstrap sample: 650 / 1000\n",
      "Bootstrap sample: 655 / 1000\n",
      "Bootstrap sample: 660 / 1000\n",
      "Bootstrap sample: 665 / 1000\n",
      "Bootstrap sample: 670 / 1000\n",
      "Bootstrap sample: 675 / 1000\n",
      "Bootstrap sample: 680 / 1000\n",
      "Bootstrap sample: 685 / 1000\n",
      "Bootstrap sample: 690 / 1000\n",
      "Bootstrap sample: 695 / 1000\n",
      "Bootstrap sample: 700 / 1000\n",
      "Bootstrap sample: 705 / 1000\n",
      "Bootstrap sample: 710 / 1000\n",
      "Bootstrap sample: 715 / 1000\n",
      "Bootstrap sample: 720 / 1000\n",
      "Bootstrap sample: 725 / 1000\n",
      "Bootstrap sample: 730 / 1000\n",
      "Bootstrap sample: 735 / 1000\n",
      "Bootstrap sample: 740 / 1000\n",
      "Bootstrap sample: 745 / 1000\n",
      "Bootstrap sample: 750 / 1000\n",
      "Bootstrap sample: 755 / 1000\n",
      "Bootstrap sample: 760 / 1000\n",
      "Bootstrap sample: 765 / 1000\n",
      "Bootstrap sample: 770 / 1000\n",
      "Bootstrap sample: 775 / 1000\n",
      "Bootstrap sample: 780 / 1000\n",
      "Bootstrap sample: 785 / 1000\n",
      "Bootstrap sample: 790 / 1000\n",
      "Bootstrap sample: 795 / 1000\n",
      "Bootstrap sample: 800 / 1000\n",
      "Bootstrap sample: 805 / 1000\n",
      "Bootstrap sample: 810 / 1000\n",
      "Bootstrap sample: 815 / 1000\n",
      "Bootstrap sample: 820 / 1000\n",
      "Bootstrap sample: 825 / 1000\n",
      "Bootstrap sample: 830 / 1000\n",
      "Bootstrap sample: 835 / 1000\n",
      "Bootstrap sample: 840 / 1000\n",
      "Bootstrap sample: 845 / 1000\n",
      "Bootstrap sample: 850 / 1000\n",
      "Bootstrap sample: 855 / 1000\n",
      "Bootstrap sample: 860 / 1000\n",
      "Bootstrap sample: 865 / 1000\n",
      "Bootstrap sample: 870 / 1000\n",
      "Bootstrap sample: 875 / 1000\n",
      "Bootstrap sample: 880 / 1000\n",
      "Bootstrap sample: 885 / 1000\n",
      "Bootstrap sample: 890 / 1000\n",
      "Bootstrap sample: 895 / 1000\n",
      "Bootstrap sample: 900 / 1000\n",
      "Bootstrap sample: 905 / 1000\n",
      "Bootstrap sample: 910 / 1000\n",
      "Bootstrap sample: 915 / 1000\n",
      "Bootstrap sample: 920 / 1000\n",
      "Bootstrap sample: 925 / 1000\n",
      "Bootstrap sample: 930 / 1000\n",
      "Bootstrap sample: 935 / 1000\n",
      "Bootstrap sample: 940 / 1000\n",
      "Bootstrap sample: 945 / 1000\n",
      "Bootstrap sample: 950 / 1000\n",
      "Bootstrap sample: 955 / 1000\n",
      "Bootstrap sample: 960 / 1000\n",
      "Bootstrap sample: 965 / 1000\n",
      "Bootstrap sample: 970 / 1000\n",
      "Bootstrap sample: 975 / 1000\n",
      "Bootstrap sample: 980 / 1000\n",
      "Bootstrap sample: 985 / 1000\n",
      "Bootstrap sample: 990 / 1000\n",
      "Bootstrap sample: 995 / 1000\n",
      "Bootstrap sample: 1000 / 1000\n"
     ]
    }
   ],
   "source": [
    "results = relative_utility_value_bootstrap(obs, fcst_ens, ref, decision_definition, parallel_nodes, verbose, bootstrap_samples, confidence_level)"
   ]
  },
  {
   "cell_type": "code",
   "execution_count": 15,
   "metadata": {},
   "outputs": [],
   "source": [
    "results_bootstrap = results['bootstrap']\n",
    "results_optim = results['complete']\n",
    "\n",
    "ci_low = results_bootstrap.confidence_interval.low\n",
    "ci_high = results_bootstrap.confidence_interval.high"
   ]
  },
  {
   "cell_type": "markdown",
   "metadata": {},
   "source": [
    "# Plot results on a value diagram"
   ]
  },
  {
   "cell_type": "code",
   "execution_count": 16,
   "metadata": {},
   "outputs": [
    {
     "data": {
      "image/png": "[encoded data removed]",
      "text/plain": [
       "<Figure size 576x504 with 1 Axes>"
      ]
     },
     "metadata": {
      "needs_background": "light"
     },
     "output_type": "display_data"
    }
   ],
   "source": [
    "plt.plot(decision_definition['alphas'], results_optim['ruv'], color=colors['dark_blue'], linewidth=2, alpha=1.0, label='Forecast value')\n",
    "plt.fill_between(decision_definition['alphas'], ci_low, ci_high, color=colors['light_blue'], alpha=0.3, label='95% confidence')\n",
    "plt.axhline(0, color='grey', linewidth=0.5, alpha=0.3, linestyle='dotted')\n",
    "plt.plot(decision_definition['alphas'], results_bootstrap.standard_error, color=colors['dark_orange'], linewidth=0.5, alpha=0.5, linestyle='dotted', label='Confidence standard error')\n",
    "plt.ylim(0, 1)\n",
    "plt.xlim((0, 1))\n",
    "plt.ylim(-0.05, 1)\n",
    "plt.xlabel('Relative expense of mitigation (Alpha)')\n",
    "plt.ylabel('Forecast value (RUV)')\n",
    "plt.title('Day 7 forecasts for Murray River at Biggara (401012)', fontsize='medium')\n",
    "plt.legend()\n",
    "\n",
    "plt.savefig('ruv_bootstrap.png')"
   ]
  },
  {
   "cell_type": "code",
   "execution_count": 26,
   "metadata": {},
   "outputs": [
    {
     "data": {
      "text/plain": [
       "(array([  8.,  20.,  67., 121., 217., 250., 197.,  92.,  24.,   4.]),\n",
       " array([0.52871731, 0.56751145, 0.60630559, 0.64509973, 0.68389387,\n",
       "        0.72268802, 0.76148216, 0.8002763 , 0.83907044, 0.87786458,\n",
       "        0.91665872]),\n",
       " <BarContainer object of 10 artists>)"
      ]
     },
     "execution_count": 26,
     "metadata": {},
     "output_type": "execute_result"
    },
    {
     "data": {
      "image/png": "[encoded data removed]",
      "text/plain": [
       "<Figure size 576x504 with 1 Axes>"
      ]
     },
     "metadata": {
      "needs_background": "light"
     },
     "output_type": "display_data"
    }
   ],
   "source": [
    "plt.hist(results_bootstrap.bootstrap_distribution[50])"
   ]
  },
  {
   "cell_type": "code",
   "execution_count": 34,
   "metadata": {},
   "outputs": [],
   "source": [
    "with open(r\"ruv_bootstrap_distribution.pickle\", \"wb\") as output_file:\n",
    "    pickle.dump(results_bootstrap.bootstrap_distribution, output_file)\n",
    "                \n",
    "with open(r\"ruv_confidence_interval.pickle\", \"wb\") as output_file:\n",
    "    pickle.dump(results_bootstrap.confidence_interval, output_file)\n",
    "    \n",
    "with open(r\"ruv_standard_error.pickle\", \"wb\") as output_file:\n",
    "    pickle.dump(results_bootstrap.standard_error, output_file)"
   ]
  },
  {
   "cell_type": "code",
   "execution_count": null,
   "metadata": {},
   "outputs": [],
   "source": []
  }
 ],
 "metadata": {
  "kernelspec": {
   "display_name": "Python 3 (ipykernel)",
   "language": "python",
   "name": "python3"
  },
  "language_info": {
   "codemirror_mode": {
    "name": "ipython",
    "version": 3
   },
   "file_extension": ".py",
   "mimetype": "text/x-python",
   "name": "python",
   "nbconvert_exporter": "python",
   "pygments_lexer": "ipython3",
   "version": "3.9.2"
  }
 },
 "nbformat": 4,
 "nbformat_minor": 4
}

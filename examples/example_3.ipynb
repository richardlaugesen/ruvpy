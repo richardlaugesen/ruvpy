{
 "cells": [
  {
   "attachments": {},
   "cell_type": "markdown",
   "metadata": {},
   "source": [
    "# Evaluate impact of damage function shape"
   ]
  },
  {
   "cell_type": "code",
   "metadata": {
    "ExecuteTime": {
     "end_time": "2024-08-23T00:17:54.867689Z",
     "start_time": "2024-08-23T00:17:54.863672Z"
    }
   },
   "source": [
    "# Copyright 2023 Richard Laugesen\n",
    "\n",
    "# Licensed under the Apache License, Version 2.0 (the \"License\");\n",
    "# you may not use this file except in compliance with the License.\n",
    "# You may obtain a copy of the License at\n",
    "\n",
    "#     https://www.apache.org/licenses/LICENSE-2.0\n",
    "\n",
    "# Unless required by applicable law or agreed to in writing, software\n",
    "# distributed under the License is distributed on an \"AS IS\" BASIS,\n",
    "# WITHOUT WARRANTIES OR CONDITIONS OF ANY KIND, either express or implied.\n",
    "# See the License for the specific language governing permissions and\n",
    "# limitations under the License."
   ],
   "outputs": [],
   "execution_count": 2
  },
  {
   "cell_type": "code",
   "metadata": {
    "ExecuteTime": {
     "end_time": "2024-08-23T00:17:56.661193Z",
     "start_time": "2024-08-23T00:17:54.882699Z"
    }
   },
   "source": [
    "import sys\n",
    "import numpy as np\n",
    "import pandas as pd\n",
    "from matplotlib import pyplot as plt\n",
    "import pickle\n",
    "import bz2\n",
    "\n",
    "sys.path.append('..')\n",
    "\n",
    "from ruv.relative_utility_value import *\n",
    "from ruv.damage_functions import *\n",
    "from ruv.economic_models import *\n",
    "from ruv.utility_functions import *"
   ],
   "outputs": [],
   "execution_count": 3
  },
  {
   "cell_type": "code",
   "metadata": {
    "ExecuteTime": {
     "end_time": "2024-08-23T00:17:56.683400Z",
     "start_time": "2024-08-23T00:17:56.677606Z"
    }
   },
   "source": [
    "plt.rcParams['figure.figsize'] = (8, 7)\n",
    "\n",
    "plt.rcParams['font.family'] = \"arial\"\n",
    "plt.rcParams['font.size'] = \"12.5\"\n",
    "\n",
    "colors = {\n",
    "    'black': '#000000',\n",
    "    'light_orange': '#E69F00',\n",
    "    'light_blue': '#56B4E9',\n",
    "    'green': '#009E73',\n",
    "    'yellow': '#F0E442',\n",
    "    'dark blue': '#0072B2',\n",
    "    'dark_orange': '#D55E00',\n",
    "    'pink': '#CC79A7'\n",
    "} "
   ],
   "outputs": [],
   "execution_count": 4
  },
  {
   "attachments": {},
   "cell_type": "markdown",
   "metadata": {},
   "source": [
    "# Example forecast dataset\n",
    "### Day 1 to 7 forecasts for catchment in southern Murray-Darling basin generated using the MuTHRE method"
   ]
  },
  {
   "cell_type": "code",
   "metadata": {
    "ExecuteTime": {
     "end_time": "2024-08-23T00:17:56.710834Z",
     "start_time": "2024-08-23T00:17:56.706890Z"
    }
   },
   "source": [
    "awrc = '405219'\n",
    "dataset_filepath = '%s_data.pickle.bz2' % awrc\n",
    "parallel_nodes = 6\n",
    "k_step = 0.2"
   ],
   "outputs": [],
   "execution_count": 5
  },
  {
   "cell_type": "code",
   "metadata": {
    "ExecuteTime": {
     "end_time": "2024-08-23T00:17:57.059370Z",
     "start_time": "2024-08-23T00:17:56.736575Z"
    }
   },
   "source": [
    "with bz2.BZ2File(dataset_filepath, 'r') as f:\n",
    "    data = pickle.load(f)\n",
    "obs, clim_ens, fcst_ens = data['obs'], data['clim'], data['fcst']\n",
    "print(obs.shape, fcst_ens.shape, clim_ens.shape)"
   ],
   "outputs": [
    {
     "name": "stdout",
     "output_type": "stream",
     "text": [
      "(1932,) (1932, 100) (1932, 497)\n"
     ]
    }
   ],
   "execution_count": 6
  },
  {
   "attachments": {},
   "cell_type": "markdown",
   "metadata": {},
   "source": [
    "# Define decision context"
   ]
  },
  {
   "cell_type": "code",
   "metadata": {
    "ExecuteTime": {
     "end_time": "2024-08-23T00:17:57.086089Z",
     "start_time": "2024-08-23T00:17:57.080843Z"
    }
   },
   "source": [
    "decision_definition = {\n",
    "    'economic_model_params': np.array([0.1, 0.5, 0.9]),\n",
    "    'utility_function': [cara, {'A': 0}],                                  # minor risk aversion\n",
    "    'economic_model': [cost_loss, cost_loss_analytical_spend],\n",
    "    'decision_thresholds': None,\n",
    "    'decision_method': 'critical_probability_threshold_equals_par',\n",
    "    'damage_function': [logistic, {'k': 1, 'A': 1, 'threshold': np.nanquantile(obs, 0.99)}]\n",
    "}\n",
    "\n",
    "ref = clim_ens  # use 14-day moving average climatology as the reference forecast"
   ],
   "outputs": [],
   "execution_count": 7
  },
  {
   "attachments": {},
   "cell_type": "markdown",
   "metadata": {},
   "source": [
    "# Plot sample damage functions"
   ]
  },
  {
   "cell_type": "code",
   "metadata": {
    "ExecuteTime": {
     "end_time": "2024-08-23T00:17:57.102931Z",
     "start_time": "2024-08-23T00:17:57.098861Z"
    }
   },
   "source": [
    "ks = np.exp(np.arange(0, 2, k_step)) - 1\n",
    "ks = np.append(ks, [10, 50, 100])     # add few more value closers to a step function"
   ],
   "outputs": [],
   "execution_count": 8
  },
  {
   "cell_type": "code",
   "metadata": {
    "ExecuteTime": {
     "end_time": "2024-08-23T00:17:57.550409Z",
     "start_time": "2024-08-23T00:17:57.117214Z"
    }
   },
   "source": [
    "streamflow = np.arange(0, np.nanmax(obs) * 1.3, 0.01)\n",
    "damage_fnc, params = decision_definition['damage_function']\n",
    "\n",
    "for k in ks[[0, 20, int(len(ks)/2), len(ks)-1]]:\n",
    "    params['k'] = k\n",
    "    damages = damage_fnc(params)(streamflow)\n",
    "    plt.plot(streamflow, damages, label='k=%.1f' % params['k'])\n",
    "\n",
    "plt.axvline(np.nanmax(obs), color='red', linewidth=0.5, alpha=0.5, linestyle='dotted', label='Max obs')\n",
    "\n",
    "plt.title('Example damage functions different damage function steepness')\n",
    "plt.xlabel('Streamflow')\n",
    "plt.ylabel('Damages')\n",
    "plt.legend()"
   ],
   "outputs": [
    {
     "ename": "IndexError",
     "evalue": "index 20 is out of bounds for axis 0 with size 13",
     "output_type": "error",
     "traceback": [
      "\u001B[1;31m---------------------------------------------------------------------------\u001B[0m",
      "\u001B[1;31mIndexError\u001B[0m                                Traceback (most recent call last)",
      "Cell \u001B[1;32mIn[9], line 4\u001B[0m\n\u001B[0;32m      1\u001B[0m streamflow \u001B[38;5;241m=\u001B[39m np\u001B[38;5;241m.\u001B[39marange(\u001B[38;5;241m0\u001B[39m, np\u001B[38;5;241m.\u001B[39mnanmax(obs) \u001B[38;5;241m*\u001B[39m \u001B[38;5;241m1.3\u001B[39m, \u001B[38;5;241m0.01\u001B[39m)\n\u001B[0;32m      2\u001B[0m damage_fnc, params \u001B[38;5;241m=\u001B[39m decision_definition[\u001B[38;5;124m'\u001B[39m\u001B[38;5;124mdamage_function\u001B[39m\u001B[38;5;124m'\u001B[39m]\n\u001B[1;32m----> 4\u001B[0m \u001B[38;5;28;01mfor\u001B[39;00m k \u001B[38;5;129;01min\u001B[39;00m \u001B[43mks\u001B[49m\u001B[43m[\u001B[49m\u001B[43m[\u001B[49m\u001B[38;5;241;43m0\u001B[39;49m\u001B[43m,\u001B[49m\u001B[43m \u001B[49m\u001B[38;5;241;43m20\u001B[39;49m\u001B[43m,\u001B[49m\u001B[43m \u001B[49m\u001B[38;5;28;43mint\u001B[39;49m\u001B[43m(\u001B[49m\u001B[38;5;28;43mlen\u001B[39;49m\u001B[43m(\u001B[49m\u001B[43mks\u001B[49m\u001B[43m)\u001B[49m\u001B[38;5;241;43m/\u001B[39;49m\u001B[38;5;241;43m2\u001B[39;49m\u001B[43m)\u001B[49m\u001B[43m,\u001B[49m\u001B[43m \u001B[49m\u001B[38;5;28;43mlen\u001B[39;49m\u001B[43m(\u001B[49m\u001B[43mks\u001B[49m\u001B[43m)\u001B[49m\u001B[38;5;241;43m-\u001B[39;49m\u001B[38;5;241;43m1\u001B[39;49m\u001B[43m]\u001B[49m\u001B[43m]\u001B[49m:\n\u001B[0;32m      5\u001B[0m     params[\u001B[38;5;124m'\u001B[39m\u001B[38;5;124mk\u001B[39m\u001B[38;5;124m'\u001B[39m] \u001B[38;5;241m=\u001B[39m k\n\u001B[0;32m      6\u001B[0m     damages \u001B[38;5;241m=\u001B[39m damage_fnc(params)(streamflow)\n",
      "\u001B[1;31mIndexError\u001B[0m: index 20 is out of bounds for axis 0 with size 13"
     ]
    }
   ],
   "execution_count": 9
  },
  {
   "attachments": {},
   "cell_type": "markdown",
   "metadata": {},
   "source": [
    "# Calculate RUV for the different shape logistic damage functions"
   ]
  },
  {
   "cell_type": "code",
   "metadata": {
    "ExecuteTime": {
     "end_time": "2024-08-23T00:22:11.654103Z",
     "start_time": "2024-08-23T00:21:49.135238Z"
    }
   },
   "source": [
    "results = {}\n",
    "for k in ks:\n",
    "    decision_definition['damage_function'] = [logistic, {'k': k, 'A': 1, 'threshold': np.nanquantile(obs, 0.99)}]\n",
    "    results[k] = relative_utility_value(obs, fcst_ens, ref, decision_definition, parallel_nodes=parallel_nodes)\n"
   ],
   "outputs": [
    {
     "name": "stderr",
     "output_type": "stream",
     "text": [
      "C:\\Users\\me\\research\\relative-utility-value\\ruv\\multi_timestep.py:53: RuntimeWarning: invalid value encountered in scalar divide\n",
      "  output.ruv = (output.avg_ref_ex_post - output.avg_fcst_ex_post) / (output.avg_ref_ex_post - output.avg_obs_ex_post)\n",
      "C:\\Users\\me\\research\\relative-utility-value\\ruv\\multi_timestep.py:53: RuntimeWarning: invalid value encountered in scalar divide\n",
      "  output.ruv = (output.avg_ref_ex_post - output.avg_fcst_ex_post) / (output.avg_ref_ex_post - output.avg_obs_ex_post)\n",
      "C:\\Users\\me\\research\\relative-utility-value\\ruv\\multi_timestep.py:53: RuntimeWarning: invalid value encountered in scalar divide\n",
      "  output.ruv = (output.avg_ref_ex_post - output.avg_fcst_ex_post) / (output.avg_ref_ex_post - output.avg_obs_ex_post)\n"
     ]
    }
   ],
   "execution_count": 21
  },
  {
   "metadata": {
    "ExecuteTime": {
     "end_time": "2024-08-23T00:22:23.353352Z",
     "start_time": "2024-08-23T00:22:23.350083Z"
    }
   },
   "cell_type": "code",
   "source": "# explore damages for each results[k]",
   "outputs": [],
   "execution_count": 22
  },
  {
   "metadata": {
    "ExecuteTime": {
     "end_time": "2024-08-23T00:22:25.220003Z",
     "start_time": "2024-08-23T00:22:25.202016Z"
    }
   },
   "cell_type": "code",
   "source": "results_df = pd.DataFrame(results['ruv'], index=decision_definition['economic_model_params']).T",
   "outputs": [
    {
     "ename": "KeyError",
     "evalue": "'ruv'",
     "output_type": "error",
     "traceback": [
      "\u001B[1;31m---------------------------------------------------------------------------\u001B[0m",
      "\u001B[1;31mKeyError\u001B[0m                                  Traceback (most recent call last)",
      "Cell \u001B[1;32mIn[23], line 1\u001B[0m\n\u001B[1;32m----> 1\u001B[0m results_df \u001B[38;5;241m=\u001B[39m pd\u001B[38;5;241m.\u001B[39mDataFrame(\u001B[43mresults\u001B[49m\u001B[43m[\u001B[49m\u001B[38;5;124;43m'\u001B[39;49m\u001B[38;5;124;43mruv\u001B[39;49m\u001B[38;5;124;43m'\u001B[39;49m\u001B[43m]\u001B[49m, index\u001B[38;5;241m=\u001B[39mdecision_definition[\u001B[38;5;124m'\u001B[39m\u001B[38;5;124meconomic_model_params\u001B[39m\u001B[38;5;124m'\u001B[39m])\u001B[38;5;241m.\u001B[39mT\n",
      "\u001B[1;31mKeyError\u001B[0m: 'ruv'"
     ]
    }
   ],
   "execution_count": 23
  },
  {
   "attachments": {},
   "cell_type": "markdown",
   "metadata": {},
   "source": [
    "# Plot results for different values of alpha"
   ]
  },
  {
   "metadata": {
    "ExecuteTime": {
     "end_time": "2024-08-23T00:21:00.958070Z",
     "start_time": "2024-08-23T00:21:00.953709Z"
    }
   },
   "cell_type": "code",
   "source": "results_df = pd.DataFrame(results, index=decision_definition['economic_model_params']).T",
   "outputs": [],
   "execution_count": 18
  },
  {
   "metadata": {
    "ExecuteTime": {
     "end_time": "2024-08-23T00:21:11.145713Z",
     "start_time": "2024-08-23T00:21:10.883674Z"
    }
   },
   "cell_type": "code",
   "source": [
    "results_df.plot()\n",
    "plt.axhline(0, color='grey', linewidth=0.5, alpha=0.3, linestyle='dotted')\n",
    "plt.ylim(-0.05, 1)\n",
    "plt.xlim((0, 4.5))\n",
    "\n",
    "plt.xlabel('Logistic steepness parameter (k)')\n",
    "plt.ylabel('Forecast value (RUV)')\n",
    "plt.title('Impact of damage function steepness on forecast value for different values of alpha', fontsize='medium')\n",
    "plt.legend()"
   ],
   "outputs": [
    {
     "data": {
      "text/plain": [
       "<matplotlib.legend.Legend at 0x26a1d4b6210>"
      ]
     },
     "execution_count": 19,
     "metadata": {},
     "output_type": "execute_result"
    },
    {
     "data": {
      "text/plain": [
       "<Figure size 800x700 with 1 Axes>"
      ],
      "image/png": "[encoded data removed]"
     },
     "metadata": {},
     "output_type": "display_data"
    }
   ],
   "execution_count": 19
  },
  {
   "metadata": {
    "ExecuteTime": {
     "end_time": "2024-08-23T00:22:35.536212Z",
     "start_time": "2024-08-23T00:22:35.528742Z"
    }
   },
   "cell_type": "code",
   "source": "results[0]",
   "outputs": [
    {
     "data": {
      "text/plain": [
       "{'ruv': array([nan, nan, nan]),\n",
       " 'avg_fcst_ex_post': array([-0.05, -0.25, -0.45]),\n",
       " 'avg_ref_ex_post': array([-0.05, -0.25, -0.45]),\n",
       " 'avg_obs_ex_post': array([-0.05, -0.25, -0.45]),\n",
       " 'fcst_spends': array([[0.05, 0.05, 0.05, ..., 0.05, 0.05, 0.05],\n",
       "        [0.25, 0.25, 0.25, ..., 0.25, 0.25, 0.25],\n",
       "        [0.45, 0.45, 0.45, ..., 0.45, 0.45, 0.45]]),\n",
       " 'ref_spends': array([[0.05, 0.05, 0.05, ..., 0.05, 0.05, 0.05],\n",
       "        [0.25, 0.25, 0.25, ..., 0.25, 0.25, 0.25],\n",
       "        [0.45, 0.45, 0.45, ..., 0.45, 0.45, 0.45]]),\n",
       " 'obs_spends': array([[0.05, 0.05, 0.05, ..., 0.05, 0.05, 0.05],\n",
       "        [0.25, 0.25, 0.25, ..., 0.25, 0.25, 0.25],\n",
       "        [0.45, 0.45, 0.45, ..., 0.45, 0.45, 0.45]]),\n",
       " 'fcst_ex_ante': array([[nan, nan, nan, ..., nan, nan, nan],\n",
       "        [nan, nan, nan, ..., nan, nan, nan],\n",
       "        [nan, nan, nan, ..., nan, nan, nan]]),\n",
       " 'ref_ex_ante': array([[nan, nan, nan, ..., nan, nan, nan],\n",
       "        [nan, nan, nan, ..., nan, nan, nan],\n",
       "        [nan, nan, nan, ..., nan, nan, nan]]),\n",
       " 'obs_ex_ante': array([[nan, nan, nan, ..., nan, nan, nan],\n",
       "        [nan, nan, nan, ..., nan, nan, nan],\n",
       "        [nan, nan, nan, ..., nan, nan, nan]]),\n",
       " 'fcst_ex_post': array([[-0.05, -0.05, -0.05, ..., -0.05, -0.05, -0.05],\n",
       "        [-0.25, -0.25, -0.25, ..., -0.25, -0.25, -0.25],\n",
       "        [-0.45, -0.45, -0.45, ..., -0.45, -0.45, -0.45]]),\n",
       " 'ref_ex_post': array([[-0.05, -0.05, -0.05, ..., -0.05, -0.05, -0.05],\n",
       "        [-0.25, -0.25, -0.25, ..., -0.25, -0.25, -0.25],\n",
       "        [-0.45, -0.45, -0.45, ..., -0.45, -0.45, -0.45]]),\n",
       " 'obs_ex_post': array([[-0.05, -0.05, -0.05, ..., -0.05, -0.05, -0.05],\n",
       "        [-0.25, -0.25, -0.25, ..., -0.25, -0.25, -0.25],\n",
       "        [-0.45, -0.45, -0.45, ..., -0.45, -0.45, -0.45]]),\n",
       " 'fcst_expected_damages': array([[0.5, 0.5, 0.5, ..., 0.5, 0.5, 0.5],\n",
       "        [0.5, 0.5, 0.5, ..., 0.5, 0.5, 0.5],\n",
       "        [0.5, 0.5, 0.5, ..., 0.5, 0.5, 0.5]]),\n",
       " 'ref_expected_damages': array([[0.5, 0.5, 0.5, ..., 0.5, 0.5, 0.5],\n",
       "        [0.5, 0.5, 0.5, ..., 0.5, 0.5, 0.5],\n",
       "        [0.5, 0.5, 0.5, ..., 0.5, 0.5, 0.5]]),\n",
       " 'obs_damages': array([[0.5, 0.5, 0.5, ..., 0.5, 0.5, 0.5],\n",
       "        [0.5, 0.5, 0.5, ..., 0.5, 0.5, 0.5],\n",
       "        [0.5, 0.5, 0.5, ..., 0.5, 0.5, 0.5]])}"
      ]
     },
     "execution_count": 25,
     "metadata": {},
     "output_type": "execute_result"
    }
   ],
   "execution_count": 25
  },
  {
   "metadata": {},
   "cell_type": "code",
   "outputs": [],
   "execution_count": null,
   "source": ""
  }
 ],
 "metadata": {
  "kernelspec": {
   "display_name": "Python 3 (ipykernel)",
   "language": "python",
   "name": "python3"
  },
  "language_info": {
   "codemirror_mode": {
    "name": "ipython",
    "version": 3
   },
   "file_extension": ".py",
   "mimetype": "text/x-python",
   "name": "python",
   "nbconvert_exporter": "python",
   "pygments_lexer": "ipython3",
   "version": "3.8.10"
  }
 },
 "nbformat": 4,
 "nbformat_minor": 4
}

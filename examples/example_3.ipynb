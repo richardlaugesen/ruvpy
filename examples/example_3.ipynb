{
 "cells": [
  {
   "attachments": {},
   "cell_type": "markdown",
   "metadata": {},
   "source": [
    "# Evaluate impact of damage function shape"
   ]
  },
  {
   "cell_type": "code",
   "execution_count": 1,
   "metadata": {},
   "outputs": [],
   "source": [
    "# Copyright 2023 Richard Laugesen\n",
    "\n",
    "# Licensed under the Apache License, Version 2.0 (the \"License\");\n",
    "# you may not use this file except in compliance with the License.\n",
    "# You may obtain a copy of the License at\n",
    "\n",
    "#     https://www.apache.org/licenses/LICENSE-2.0\n",
    "\n",
    "# Unless required by applicable law or agreed to in writing, software\n",
    "# distributed under the License is distributed on an \"AS IS\" BASIS,\n",
    "# WITHOUT WARRANTIES OR CONDITIONS OF ANY KIND, either express or implied.\n",
    "# See the License for the specific language governing permissions and\n",
    "# limitations under the License."
   ]
  },
  {
   "cell_type": "code",
   "metadata": {
    "ExecuteTime": {
     "end_time": "2024-08-02T07:08:22.206307Z",
     "start_time": "2024-08-02T07:08:13.151990Z"
    }
   },
   "source": [
    "import sys\n",
    "import numpy as np\n",
    "import pandas as pd\n",
    "from matplotlib import pyplot as plt\n",
    "import pickle\n",
    "import bz2\n",
    "\n",
    "sys.path.append('..')\n",
    "\n",
    "from ruv.relative_utility_value import *\n",
    "from ruv.damage_functions import *\n",
    "from ruv.economic_models import *\n",
    "from ruv.utility_functions import *"
   ],
   "outputs": [],
   "execution_count": 1
  },
  {
   "cell_type": "code",
   "metadata": {
    "ExecuteTime": {
     "end_time": "2024-08-02T07:08:22.214138Z",
     "start_time": "2024-08-02T07:08:22.208315Z"
    }
   },
   "source": [
    "plt.rcParams['figure.figsize'] = (8, 7)\n",
    "\n",
    "plt.rcParams['font.family'] = \"arial\"\n",
    "plt.rcParams['font.size'] = \"12.5\"\n",
    "\n",
    "colors = {\n",
    "    'black': '#000000',\n",
    "    'light_orange': '#E69F00',\n",
    "    'light_blue': '#56B4E9',\n",
    "    'green': '#009E73',\n",
    "    'yellow': '#F0E442',\n",
    "    'dark blue': '#0072B2',\n",
    "    'dark_orange': '#D55E00',\n",
    "    'pink': '#CC79A7'\n",
    "} "
   ],
   "outputs": [],
   "execution_count": 2
  },
  {
   "attachments": {},
   "cell_type": "markdown",
   "metadata": {},
   "source": [
    "# Example forecast dataset\n",
    "### Day 1 to 7 forecasts for catchment in southern Murray-Darling basin generated using the MuTHRE method"
   ]
  },
  {
   "cell_type": "code",
   "metadata": {
    "ExecuteTime": {
     "end_time": "2024-08-02T07:08:51.651903Z",
     "start_time": "2024-08-02T07:08:51.647702Z"
    }
   },
   "source": [
    "awrc = '405219'\n",
    "dataset_filepath = '%s_data.pickle.bz2' % awrc\n",
    "parallel_nodes = 6\n",
    "k_step = 0.02"
   ],
   "outputs": [],
   "execution_count": 3
  },
  {
   "cell_type": "code",
   "metadata": {
    "ExecuteTime": {
     "end_time": "2024-08-02T07:14:44.853413Z",
     "start_time": "2024-08-02T07:14:44.407467Z"
    }
   },
   "source": [
    "with bz2.BZ2File(dataset_filepath, 'r') as f:\n",
    "    data = pickle.load(f)\n",
    "obs, clim_ens, fcst_ens = data['obs'], data['clim'], data['fcst']\n",
    "print(obs.shape, fcst_ens.shape, clim_ens.shape)"
   ],
   "outputs": [
    {
     "name": "stdout",
     "output_type": "stream",
     "text": [
      "(1932,) (1932, 100) (1932, 497)\n"
     ]
    }
   ],
   "execution_count": 9
  },
  {
   "attachments": {},
   "cell_type": "markdown",
   "metadata": {},
   "source": [
    "# Define decision context"
   ]
  },
  {
   "cell_type": "code",
   "metadata": {
    "ExecuteTime": {
     "end_time": "2024-08-02T07:08:54.145363Z",
     "start_time": "2024-08-02T07:08:54.125101Z"
    }
   },
   "source": [
    "decision_definition = {\n",
    "    'econ_pars': np.array([0.1, 0.5, 0.9]),\n",
    "    'utility_function': [cara, {'A': 0.3}],                                  # minor risk aversion\n",
    "    'economic_model': [cost_loss, cost_loss_analytical_spend],\n",
    "    'decision_thresholds': None,\n",
    "    'decision_method': 'optimise_over_forecast_distribution',\n",
    "    'damage_function': [logistic, {'k': 1, 'A': 1, 'threshold': np.nanquantile(obs, 0.99)}]\n",
    "}\n",
    "\n",
    "ref = clim_ens  # use 14-day moving average climatology as the reference forecast"
   ],
   "outputs": [],
   "execution_count": 5
  },
  {
   "attachments": {},
   "cell_type": "markdown",
   "metadata": {},
   "source": [
    "# Plot sample damage functions"
   ]
  },
  {
   "cell_type": "code",
   "metadata": {
    "ExecuteTime": {
     "end_time": "2024-08-02T07:08:55.332204Z",
     "start_time": "2024-08-02T07:08:55.325979Z"
    }
   },
   "source": [
    "ks = np.exp(np.arange(0, 2, k_step)) - 1\n",
    "ks = np.append(ks, [10, 50, 100])     # add few more value closers to a step function"
   ],
   "outputs": [],
   "execution_count": 6
  },
  {
   "cell_type": "code",
   "metadata": {
    "ExecuteTime": {
     "end_time": "2024-08-02T07:15:42.826030Z",
     "start_time": "2024-08-02T07:15:06.702153Z"
    }
   },
   "source": [
    "streamflow = np.arange(0, np.nanmax(obs) * 1.3, 0.01)\n",
    "damage_fnc, params = decision_definition['damage_function']\n",
    "\n",
    "for k in ks[[0, 20, int(len(ks)/2), len(ks)-1]]:\n",
    "    params['k'] = k\n",
    "    damages = damage_fnc(params)(streamflow)\n",
    "    plt.plot(streamflow, damages, label='k=%.1f' % params['k'])\n",
    "\n",
    "plt.axvline(np.nanmax(obs), color='red', linewidth=0.5, alpha=0.5, linestyle='dotted', label='Max obs')\n",
    "\n",
    "plt.title('Example damage functions different damage function steepness')\n",
    "plt.xlabel('Streamflow')\n",
    "plt.ylabel('Damages')\n",
    "plt.legend()"
   ],
   "outputs": [
    {
     "name": "stderr",
     "output_type": "stream",
     "text": [
      "\n",
      "PYDEV DEBUGGER WARNING:\n",
      "sys.settrace() should not be used when the debugger is being used.\n",
      "This may cause the debugger to stop working correctly.\n",
      "If this is needed, please check: \n",
      "http://pydev.blogspot.com/2007/06/why-cant-pydev-debugger-work-with.html\n",
      "to see how to restore the debug tracing back correctly.\n",
      "Call Location:\n",
      "  File \"C:\\Users\\me\\AppData\\Local\\Programs\\Python\\Python312\\Lib\\bdb.py\", line 342, in set_trace\n",
      "    sys.settrace(self.trace_dispatch)\n",
      "\n"
     ]
    },
    {
     "name": "stdout",
     "output_type": "stream",
     "text": [
      "> \u001B[1;32mc:\\users\\me\\appdata\\local\\temp\\ipykernel_35272\\1419772741.py\u001B[0m(4)\u001B[0;36m<module>\u001B[1;34m()\u001B[0m\n",
      "\n"
     ]
    },
    {
     "name": "stderr",
     "output_type": "stream",
     "text": [
      "\n",
      "PYDEV DEBUGGER WARNING:\n",
      "sys.settrace() should not be used when the debugger is being used.\n",
      "This may cause the debugger to stop working correctly.\n",
      "If this is needed, please check: \n",
      "http://pydev.blogspot.com/2007/06/why-cant-pydev-debugger-work-with.html\n",
      "to see how to restore the debug tracing back correctly.\n",
      "Call Location:\n",
      "  File \"C:\\Users\\me\\AppData\\Local\\Programs\\Python\\Python312\\Lib\\bdb.py\", line 353, in set_continue\n",
      "    sys.settrace(None)\n",
      "\n"
     ]
    },
    {
     "name": "stdout",
     "output_type": "stream",
     "text": [
      "> \u001B[1;32mc:\\users\\me\\appdata\\local\\temp\\ipykernel_35272\\1419772741.py\u001B[0m(4)\u001B[0;36m<module>\u001B[1;34m()\u001B[0m\n",
      "\n",
      "> \u001B[1;32mc:\\users\\me\\appdata\\local\\temp\\ipykernel_35272\\1419772741.py\u001B[0m(4)\u001B[0;36m<module>\u001B[1;34m()\u001B[0m\n",
      "\n",
      "{'k': np.float64(1.7731947639642978), 'A': 1, 'threshold': np.float64(9.685894092222528)}\n",
      "array([3.47538068e-08, 3.53755556e-08, 3.60084275e-08, ...,\n",
      "       1.00000000e+00, 1.00000000e+00, 1.00000000e+00])\n",
      "[3.47538068e-08 3.53755556e-08 3.60084275e-08 ... 1.00000000e+00\n",
      " 1.00000000e+00 1.00000000e+00]\n",
      "[3.47538068e-08 3.53755556e-08 3.60084275e-08 ... 1.00000000e+00\n",
      " 1.00000000e+00 1.00000000e+00]\n",
      "[3.47538068e-08 3.53755556e-08 3.60084275e-08 ... 1.00000000e+00\n",
      " 1.00000000e+00 1.00000000e+00]\n",
      "[3.47538068e-08 3.53755556e-08 3.60084275e-08 ... 1.00000000e+00\n",
      " 1.00000000e+00 1.00000000e+00]\n",
      "[3.47538068e-08 3.53755556e-08 3.60084275e-08 ... 1.00000000e+00\n",
      " 1.00000000e+00 1.00000000e+00]\n",
      "[3.47538068e-08 3.53755556e-08 3.60084275e-08 ... 1.00000000e+00\n",
      " 1.00000000e+00 1.00000000e+00]\n",
      "[3.47538068e-08 3.53755556e-08 3.60084275e-08 ... 1.00000000e+00\n",
      " 1.00000000e+00 1.00000000e+00]\n",
      "[3.47538068e-08 3.53755556e-08 3.60084275e-08 ... 1.00000000e+00\n",
      " 1.00000000e+00 1.00000000e+00]\n",
      "[3.47538068e-08 3.53755556e-08 3.60084275e-08 ... 1.00000000e+00\n",
      " 1.00000000e+00 1.00000000e+00]\n",
      "[3.47538068e-08 3.53755556e-08 3.60084275e-08 ... 1.00000000e+00\n",
      " 1.00000000e+00 1.00000000e+00]\n",
      "[3.47538068e-08 3.53755556e-08 3.60084275e-08 ... 1.00000000e+00\n",
      " 1.00000000e+00 1.00000000e+00]\n",
      "[3.47538068e-08 3.53755556e-08 3.60084275e-08 ... 1.00000000e+00\n",
      " 1.00000000e+00 1.00000000e+00]\n",
      "[3.47538068e-08 3.53755556e-08 3.60084275e-08 ... 1.00000000e+00\n",
      " 1.00000000e+00 1.00000000e+00]\n",
      "[3.47538068e-08 3.53755556e-08 3.60084275e-08 ... 1.00000000e+00\n",
      " 1.00000000e+00 1.00000000e+00]\n",
      "[3.47538068e-08 3.53755556e-08 3.60084275e-08 ... 1.00000000e+00\n",
      " 1.00000000e+00 1.00000000e+00]\n",
      "[3.47538068e-08 3.53755556e-08 3.60084275e-08 ... 1.00000000e+00\n",
      " 1.00000000e+00 1.00000000e+00]\n",
      "[3.47538068e-08 3.53755556e-08 3.60084275e-08 ... 1.00000000e+00\n",
      " 1.00000000e+00 1.00000000e+00]\n",
      "[3.47538068e-08 3.53755556e-08 3.60084275e-08 ... 1.00000000e+00\n",
      " 1.00000000e+00 1.00000000e+00]\n",
      "[3.47538068e-08 3.53755556e-08 3.60084275e-08 ... 1.00000000e+00\n",
      " 1.00000000e+00 1.00000000e+00]\n",
      "[3.47538068e-08 3.53755556e-08 3.60084275e-08 ... 1.00000000e+00\n",
      " 1.00000000e+00 1.00000000e+00]\n",
      "[3.47538068e-08 3.53755556e-08 3.60084275e-08 ... 1.00000000e+00\n",
      " 1.00000000e+00 1.00000000e+00]\n",
      "[3.47538068e-08 3.53755556e-08 3.60084275e-08 ... 1.00000000e+00\n",
      " 1.00000000e+00 1.00000000e+00]\n",
      "[3.47538068e-08 3.53755556e-08 3.60084275e-08 ... 1.00000000e+00\n",
      " 1.00000000e+00 1.00000000e+00]\n",
      "[3.47538068e-08 3.53755556e-08 3.60084275e-08 ... 1.00000000e+00\n",
      " 1.00000000e+00 1.00000000e+00]\n",
      "[3.47538068e-08 3.53755556e-08 3.60084275e-08 ... 1.00000000e+00\n",
      " 1.00000000e+00 1.00000000e+00]\n",
      "[3.47538068e-08 3.53755556e-08 3.60084275e-08 ... 1.00000000e+00\n",
      " 1.00000000e+00 1.00000000e+00]\n",
      "[3.47538068e-08 3.53755556e-08 3.60084275e-08 ... 1.00000000e+00\n",
      " 1.00000000e+00 1.00000000e+00]\n",
      "[3.47538068e-08 3.53755556e-08 3.60084275e-08 ... 1.00000000e+00\n",
      " 1.00000000e+00 1.00000000e+00]\n",
      "[3.47538068e-08 3.53755556e-08 3.60084275e-08 ... 1.00000000e+00\n",
      " 1.00000000e+00 1.00000000e+00]\n",
      "[3.47538068e-08 3.53755556e-08 3.60084275e-08 ... 1.00000000e+00\n",
      " 1.00000000e+00 1.00000000e+00]\n",
      "[3.47538068e-08 3.53755556e-08 3.60084275e-08 ... 1.00000000e+00\n",
      " 1.00000000e+00 1.00000000e+00]\n",
      "[3.47538068e-08 3.53755556e-08 3.60084275e-08 ... 1.00000000e+00\n",
      " 1.00000000e+00 1.00000000e+00]\n",
      "[3.47538068e-08 3.53755556e-08 3.60084275e-08 ... 1.00000000e+00\n",
      " 1.00000000e+00 1.00000000e+00]\n",
      "[3.47538068e-08 3.53755556e-08 3.60084275e-08 ... 1.00000000e+00\n",
      " 1.00000000e+00 1.00000000e+00]\n",
      "[3.47538068e-08 3.53755556e-08 3.60084275e-08 ... 1.00000000e+00\n",
      " 1.00000000e+00 1.00000000e+00]\n",
      "[3.47538068e-08 3.53755556e-08 3.60084275e-08 ... 1.00000000e+00\n",
      " 1.00000000e+00 1.00000000e+00]\n",
      "[3.47538068e-08 3.53755556e-08 3.60084275e-08 ... 1.00000000e+00\n",
      " 1.00000000e+00 1.00000000e+00]\n",
      "[3.47538068e-08 3.53755556e-08 3.60084275e-08 ... 1.00000000e+00\n",
      " 1.00000000e+00 1.00000000e+00]\n",
      "[3.47538068e-08 3.53755556e-08 3.60084275e-08 ... 1.00000000e+00\n",
      " 1.00000000e+00 1.00000000e+00]\n",
      "[3.47538068e-08 3.53755556e-08 3.60084275e-08 ... 1.00000000e+00\n",
      " 1.00000000e+00 1.00000000e+00]\n",
      "[3.47538068e-08 3.53755556e-08 3.60084275e-08 ... 1.00000000e+00\n",
      " 1.00000000e+00 1.00000000e+00]\n",
      "[3.47538068e-08 3.53755556e-08 3.60084275e-08 ... 1.00000000e+00\n",
      " 1.00000000e+00 1.00000000e+00]\n",
      "[3.47538068e-08 3.53755556e-08 3.60084275e-08 ... 1.00000000e+00\n",
      " 1.00000000e+00 1.00000000e+00]\n",
      "[3.47538068e-08 3.53755556e-08 3.60084275e-08 ... 1.00000000e+00\n",
      " 1.00000000e+00 1.00000000e+00]\n"
     ]
    },
    {
     "name": "stderr",
     "output_type": "stream",
     "text": [
      "\n",
      "PYDEV DEBUGGER WARNING:\n",
      "sys.settrace() should not be used when the debugger is being used.\n",
      "This may cause the debugger to stop working correctly.\n",
      "If this is needed, please check: \n",
      "http://pydev.blogspot.com/2007/06/why-cant-pydev-debugger-work-with.html\n",
      "to see how to restore the debug tracing back correctly.\n",
      "Call Location:\n",
      "  File \"C:\\Users\\me\\AppData\\Local\\Programs\\Python\\Python312\\Lib\\bdb.py\", line 367, in set_quit\n",
      "    sys.settrace(None)\n",
      "\n"
     ]
    },
    {
     "data": {
      "text/plain": [
       "<Figure size 800x700 with 1 Axes>"
      ],
      "image/png": "[encoded data removed]"
     },
     "metadata": {},
     "output_type": "display_data"
    }
   ],
   "execution_count": 10
  },
  {
   "attachments": {},
   "cell_type": "markdown",
   "metadata": {},
   "source": [
    "# Calculate RUV for the different shape logistic damage functions"
   ]
  },
  {
   "cell_type": "code",
   "metadata": {
    "ExecuteTime": {
     "end_time": "2024-08-02T07:14:37.099192Z",
     "start_time": "2024-08-02T07:08:59.934977Z"
    }
   },
   "source": [
    "results = {}\n",
    "for k in ks:\n",
    "    decision_definition['damage_function'] = [logistic, {'k': k, 'A': 1, 'threshold': np.nanquantile(obs, 0.99)}]\n",
    "    results[k] = relative_utility_value(obs, fcst_ens, ref, decision_definition, parallel_nodes=parallel_nodes)['ruv']\n",
    "\n",
    "results_df = pd.DataFrame(results, index=decision_definition['alphas']).T"
   ],
   "outputs": [
    {
     "ename": "KeyboardInterrupt",
     "evalue": "",
     "output_type": "error",
     "traceback": [
      "\u001B[1;31m---------------------------------------------------------------------------\u001B[0m",
      "\u001B[1;31mKeyboardInterrupt\u001B[0m                         Traceback (most recent call last)",
      "Cell \u001B[1;32mIn[8], line 4\u001B[0m\n\u001B[0;32m      2\u001B[0m \u001B[38;5;28;01mfor\u001B[39;00m k \u001B[38;5;129;01min\u001B[39;00m ks:\n\u001B[0;32m      3\u001B[0m     decision_definition[\u001B[38;5;124m'\u001B[39m\u001B[38;5;124mdamage_function\u001B[39m\u001B[38;5;124m'\u001B[39m] \u001B[38;5;241m=\u001B[39m [logistic, {\u001B[38;5;124m'\u001B[39m\u001B[38;5;124mk\u001B[39m\u001B[38;5;124m'\u001B[39m: k, \u001B[38;5;124m'\u001B[39m\u001B[38;5;124mA\u001B[39m\u001B[38;5;124m'\u001B[39m: \u001B[38;5;241m1\u001B[39m, \u001B[38;5;124m'\u001B[39m\u001B[38;5;124mthreshold\u001B[39m\u001B[38;5;124m'\u001B[39m: np\u001B[38;5;241m.\u001B[39mnanquantile(obs, \u001B[38;5;241m0.99\u001B[39m)}]\n\u001B[1;32m----> 4\u001B[0m     results[k] \u001B[38;5;241m=\u001B[39m \u001B[43mrelative_utility_value\u001B[49m\u001B[43m(\u001B[49m\u001B[43mobs\u001B[49m\u001B[43m,\u001B[49m\u001B[43m \u001B[49m\u001B[43mfcst_ens\u001B[49m\u001B[43m,\u001B[49m\u001B[43m \u001B[49m\u001B[43mref\u001B[49m\u001B[43m,\u001B[49m\u001B[43m \u001B[49m\u001B[43mdecision_definition\u001B[49m\u001B[43m,\u001B[49m\u001B[43m \u001B[49m\u001B[43mparallel_nodes\u001B[49m\u001B[38;5;241;43m=\u001B[39;49m\u001B[43mparallel_nodes\u001B[49m\u001B[43m)\u001B[49m[\u001B[38;5;124m'\u001B[39m\u001B[38;5;124mruv\u001B[39m\u001B[38;5;124m'\u001B[39m]\n\u001B[0;32m      6\u001B[0m results_df \u001B[38;5;241m=\u001B[39m pd\u001B[38;5;241m.\u001B[39mDataFrame(results, index\u001B[38;5;241m=\u001B[39mdecision_definition[\u001B[38;5;124m'\u001B[39m\u001B[38;5;124malphas\u001B[39m\u001B[38;5;124m'\u001B[39m])\u001B[38;5;241m.\u001B[39mT\n",
      "File \u001B[1;32m~\\research\\relative-utility-value\\ruv\\relative_utility_value.py:40\u001B[0m, in \u001B[0;36mrelative_utility_value\u001B[1;34m(obs, fcsts, refs, decision_definition, parallel_nodes, verbose)\u001B[0m\n\u001B[0;32m     37\u001B[0m context \u001B[38;5;241m=\u001B[39m DecisionContext(alphas, damage_function, utility_function, decision_thresholds, economic_model, analytical_spend, crit_prob_thres, event_freq_ref)\n\u001B[0;32m     39\u001B[0m check_inputs(data, context)\n\u001B[1;32m---> 40\u001B[0m results \u001B[38;5;241m=\u001B[39m \u001B[43mdecision_making_fnc\u001B[49m\u001B[43m(\u001B[49m\u001B[43mdata\u001B[49m\u001B[43m,\u001B[49m\u001B[43m \u001B[49m\u001B[43mcontext\u001B[49m\u001B[43m,\u001B[49m\u001B[43m \u001B[49m\u001B[43mparallel_nodes\u001B[49m\u001B[43m,\u001B[49m\u001B[43m \u001B[49m\u001B[43mverbose\u001B[49m\u001B[43m)\u001B[49m    \n\u001B[0;32m     41\u001B[0m \u001B[38;5;28;01mreturn\u001B[39;00m to_dict(results)\n",
      "File \u001B[1;32m~\\research\\relative-utility-value\\ruv\\decision_methods.py:27\u001B[0m, in \u001B[0;36moptimise_over_forecast_distribution\u001B[1;34m(data, context, parallel_nodes, verbose)\u001B[0m\n\u001B[0;32m     25\u001B[0m outputs \u001B[38;5;241m=\u001B[39m MultiAlphaOutput()\n\u001B[0;32m     26\u001B[0m \u001B[38;5;28;01mfor\u001B[39;00m alpha \u001B[38;5;129;01min\u001B[39;00m context\u001B[38;5;241m.\u001B[39malphas:\n\u001B[1;32m---> 27\u001B[0m     outputs\u001B[38;5;241m.\u001B[39minsert(alpha, \u001B[43mmultiple_timesteps\u001B[49m\u001B[43m(\u001B[49m\u001B[43malpha\u001B[49m\u001B[43m,\u001B[49m\u001B[43m \u001B[49m\u001B[43mupdated_data\u001B[49m\u001B[43m,\u001B[49m\u001B[43m \u001B[49m\u001B[43mcontext\u001B[49m\u001B[43m,\u001B[49m\u001B[43m \u001B[49m\u001B[43mparallel_nodes\u001B[49m\u001B[43m,\u001B[49m\u001B[43m \u001B[49m\u001B[43mverbose\u001B[49m\u001B[43m)\u001B[49m)\n\u001B[0;32m     28\u001B[0m \u001B[38;5;28;01mreturn\u001B[39;00m outputs\n",
      "File \u001B[1;32m~\\research\\relative-utility-value\\ruv\\multi_timestep.py:34\u001B[0m, in \u001B[0;36mmultiple_timesteps\u001B[1;34m(alpha, data, context, parallel_nodes, verbose)\u001B[0m\n\u001B[0;32m     32\u001B[0m     args \u001B[38;5;241m=\u001B[39m \u001B[38;5;28mlist\u001B[39m(\u001B[38;5;28mmap\u001B[39m(\u001B[38;5;28mlist\u001B[39m, \u001B[38;5;28mzip\u001B[39m(\u001B[38;5;241m*\u001B[39margs)))\n\u001B[0;32m     33\u001B[0m     \u001B[38;5;28;01mwith\u001B[39;00m Pool(nodes\u001B[38;5;241m=\u001B[39mparallel_nodes) \u001B[38;5;28;01mas\u001B[39;00m pool:\n\u001B[1;32m---> 34\u001B[0m         results \u001B[38;5;241m=\u001B[39m \u001B[43mpool\u001B[49m\u001B[38;5;241;43m.\u001B[39;49m\u001B[43mmap\u001B[49m\u001B[43m(\u001B[49m\u001B[43msingle_timestep\u001B[49m\u001B[43m,\u001B[49m\u001B[43m \u001B[49m\u001B[38;5;241;43m*\u001B[39;49m\u001B[43margs\u001B[49m\u001B[43m,\u001B[49m\u001B[43m \u001B[49m\u001B[43mchunksize\u001B[49m\u001B[38;5;241;43m=\u001B[39;49m\u001B[38;5;28;43mint\u001B[39;49m\u001B[43m(\u001B[49m\u001B[43mnp\u001B[49m\u001B[38;5;241;43m.\u001B[39;49m\u001B[43msqrt\u001B[49m\u001B[43m(\u001B[49m\u001B[38;5;28;43mlen\u001B[39;49m\u001B[43m(\u001B[49m\u001B[43mdata\u001B[49m\u001B[38;5;241;43m.\u001B[39;49m\u001B[43mobs\u001B[49m\u001B[43m)\u001B[49m\u001B[38;5;241;43m/\u001B[39;49m\u001B[43mparallel_nodes\u001B[49m\u001B[43m)\u001B[49m\u001B[43m)\u001B[49m\u001B[43m)\u001B[49m\n\u001B[0;32m     36\u001B[0m output \u001B[38;5;241m=\u001B[39m SingleAlphaOutput(data\u001B[38;5;241m.\u001B[39mobs\u001B[38;5;241m.\u001B[39mshape[\u001B[38;5;241m0\u001B[39m])\n\u001B[0;32m     37\u001B[0m \u001B[38;5;28;01mfor\u001B[39;00m t, obs_spends, obs_ex_post, fcst_spends, fcst_ex_post, ref_spends, ref_ex_post \u001B[38;5;129;01min\u001B[39;00m results:\n",
      "File \u001B[1;32m~\\AppData\\Local\\pypoetry\\Cache\\virtualenvs\\relative-utility-value-lZ98InZD-py3.12\\Lib\\site-packages\\pathos\\multiprocessing.py:154\u001B[0m, in \u001B[0;36mProcessPool.map\u001B[1;34m(self, f, *args, **kwds)\u001B[0m\n\u001B[0;32m    152\u001B[0m \u001B[38;5;28;01mif\u001B[39;00m \u001B[38;5;129;01mnot\u001B[39;00m OLD312a7:\n\u001B[0;32m    153\u001B[0m     warnings\u001B[38;5;241m.\u001B[39mfilterwarnings(\u001B[38;5;124m'\u001B[39m\u001B[38;5;124mignore\u001B[39m\u001B[38;5;124m'\u001B[39m, category\u001B[38;5;241m=\u001B[39m\u001B[38;5;167;01mDeprecationWarning\u001B[39;00m)\n\u001B[1;32m--> 154\u001B[0m \u001B[38;5;28;01mreturn\u001B[39;00m \u001B[43m_pool\u001B[49m\u001B[38;5;241;43m.\u001B[39;49m\u001B[43mmap\u001B[49m\u001B[43m(\u001B[49m\u001B[43mstar\u001B[49m\u001B[43m(\u001B[49m\u001B[43mf\u001B[49m\u001B[43m)\u001B[49m\u001B[43m,\u001B[49m\u001B[43m \u001B[49m\u001B[38;5;28;43mzip\u001B[39;49m\u001B[43m(\u001B[49m\u001B[38;5;241;43m*\u001B[39;49m\u001B[43margs\u001B[49m\u001B[43m)\u001B[49m\u001B[43m,\u001B[49m\u001B[43m \u001B[49m\u001B[38;5;241;43m*\u001B[39;49m\u001B[38;5;241;43m*\u001B[39;49m\u001B[43mkwds\u001B[49m\u001B[43m)\u001B[49m\n",
      "File \u001B[1;32m~\\AppData\\Local\\pypoetry\\Cache\\virtualenvs\\relative-utility-value-lZ98InZD-py3.12\\Lib\\site-packages\\multiprocess\\pool.py:367\u001B[0m, in \u001B[0;36mPool.map\u001B[1;34m(self, func, iterable, chunksize)\u001B[0m\n\u001B[0;32m    362\u001B[0m \u001B[38;5;28;01mdef\u001B[39;00m \u001B[38;5;21mmap\u001B[39m(\u001B[38;5;28mself\u001B[39m, func, iterable, chunksize\u001B[38;5;241m=\u001B[39m\u001B[38;5;28;01mNone\u001B[39;00m):\n\u001B[0;32m    363\u001B[0m \u001B[38;5;250m    \u001B[39m\u001B[38;5;124;03m'''\u001B[39;00m\n\u001B[0;32m    364\u001B[0m \u001B[38;5;124;03m    Apply `func` to each element in `iterable`, collecting the results\u001B[39;00m\n\u001B[0;32m    365\u001B[0m \u001B[38;5;124;03m    in a list that is returned.\u001B[39;00m\n\u001B[0;32m    366\u001B[0m \u001B[38;5;124;03m    '''\u001B[39;00m\n\u001B[1;32m--> 367\u001B[0m     \u001B[38;5;28;01mreturn\u001B[39;00m \u001B[38;5;28;43mself\u001B[39;49m\u001B[38;5;241;43m.\u001B[39;49m\u001B[43m_map_async\u001B[49m\u001B[43m(\u001B[49m\u001B[43mfunc\u001B[49m\u001B[43m,\u001B[49m\u001B[43m \u001B[49m\u001B[43miterable\u001B[49m\u001B[43m,\u001B[49m\u001B[43m \u001B[49m\u001B[43mmapstar\u001B[49m\u001B[43m,\u001B[49m\u001B[43m \u001B[49m\u001B[43mchunksize\u001B[49m\u001B[43m)\u001B[49m\u001B[38;5;241;43m.\u001B[39;49m\u001B[43mget\u001B[49m\u001B[43m(\u001B[49m\u001B[43m)\u001B[49m\n",
      "File \u001B[1;32m~\\AppData\\Local\\pypoetry\\Cache\\virtualenvs\\relative-utility-value-lZ98InZD-py3.12\\Lib\\site-packages\\multiprocess\\pool.py:768\u001B[0m, in \u001B[0;36mApplyResult.get\u001B[1;34m(self, timeout)\u001B[0m\n\u001B[0;32m    767\u001B[0m \u001B[38;5;28;01mdef\u001B[39;00m \u001B[38;5;21mget\u001B[39m(\u001B[38;5;28mself\u001B[39m, timeout\u001B[38;5;241m=\u001B[39m\u001B[38;5;28;01mNone\u001B[39;00m):\n\u001B[1;32m--> 768\u001B[0m     \u001B[38;5;28;43mself\u001B[39;49m\u001B[38;5;241;43m.\u001B[39;49m\u001B[43mwait\u001B[49m\u001B[43m(\u001B[49m\u001B[43mtimeout\u001B[49m\u001B[43m)\u001B[49m\n\u001B[0;32m    769\u001B[0m     \u001B[38;5;28;01mif\u001B[39;00m \u001B[38;5;129;01mnot\u001B[39;00m \u001B[38;5;28mself\u001B[39m\u001B[38;5;241m.\u001B[39mready():\n\u001B[0;32m    770\u001B[0m         \u001B[38;5;28;01mraise\u001B[39;00m \u001B[38;5;167;01mTimeoutError\u001B[39;00m\n",
      "File \u001B[1;32m~\\AppData\\Local\\pypoetry\\Cache\\virtualenvs\\relative-utility-value-lZ98InZD-py3.12\\Lib\\site-packages\\multiprocess\\pool.py:765\u001B[0m, in \u001B[0;36mApplyResult.wait\u001B[1;34m(self, timeout)\u001B[0m\n\u001B[0;32m    764\u001B[0m \u001B[38;5;28;01mdef\u001B[39;00m \u001B[38;5;21mwait\u001B[39m(\u001B[38;5;28mself\u001B[39m, timeout\u001B[38;5;241m=\u001B[39m\u001B[38;5;28;01mNone\u001B[39;00m):\n\u001B[1;32m--> 765\u001B[0m     \u001B[38;5;28;43mself\u001B[39;49m\u001B[38;5;241;43m.\u001B[39;49m\u001B[43m_event\u001B[49m\u001B[38;5;241;43m.\u001B[39;49m\u001B[43mwait\u001B[49m\u001B[43m(\u001B[49m\u001B[43mtimeout\u001B[49m\u001B[43m)\u001B[49m\n",
      "File \u001B[1;32m~\\AppData\\Local\\Programs\\Python\\Python312\\Lib\\threading.py:655\u001B[0m, in \u001B[0;36mEvent.wait\u001B[1;34m(self, timeout)\u001B[0m\n\u001B[0;32m    653\u001B[0m signaled \u001B[38;5;241m=\u001B[39m \u001B[38;5;28mself\u001B[39m\u001B[38;5;241m.\u001B[39m_flag\n\u001B[0;32m    654\u001B[0m \u001B[38;5;28;01mif\u001B[39;00m \u001B[38;5;129;01mnot\u001B[39;00m signaled:\n\u001B[1;32m--> 655\u001B[0m     signaled \u001B[38;5;241m=\u001B[39m \u001B[38;5;28;43mself\u001B[39;49m\u001B[38;5;241;43m.\u001B[39;49m\u001B[43m_cond\u001B[49m\u001B[38;5;241;43m.\u001B[39;49m\u001B[43mwait\u001B[49m\u001B[43m(\u001B[49m\u001B[43mtimeout\u001B[49m\u001B[43m)\u001B[49m\n\u001B[0;32m    656\u001B[0m \u001B[38;5;28;01mreturn\u001B[39;00m signaled\n",
      "File \u001B[1;32m~\\AppData\\Local\\Programs\\Python\\Python312\\Lib\\threading.py:355\u001B[0m, in \u001B[0;36mCondition.wait\u001B[1;34m(self, timeout)\u001B[0m\n\u001B[0;32m    353\u001B[0m \u001B[38;5;28;01mtry\u001B[39;00m:    \u001B[38;5;66;03m# restore state no matter what (e.g., KeyboardInterrupt)\u001B[39;00m\n\u001B[0;32m    354\u001B[0m     \u001B[38;5;28;01mif\u001B[39;00m timeout \u001B[38;5;129;01mis\u001B[39;00m \u001B[38;5;28;01mNone\u001B[39;00m:\n\u001B[1;32m--> 355\u001B[0m         \u001B[43mwaiter\u001B[49m\u001B[38;5;241;43m.\u001B[39;49m\u001B[43macquire\u001B[49m\u001B[43m(\u001B[49m\u001B[43m)\u001B[49m\n\u001B[0;32m    356\u001B[0m         gotit \u001B[38;5;241m=\u001B[39m \u001B[38;5;28;01mTrue\u001B[39;00m\n\u001B[0;32m    357\u001B[0m     \u001B[38;5;28;01melse\u001B[39;00m:\n",
      "\u001B[1;31mKeyboardInterrupt\u001B[0m: "
     ]
    }
   ],
   "execution_count": 8
  },
  {
   "attachments": {},
   "cell_type": "markdown",
   "metadata": {},
   "source": [
    "# Plot results for different values of alpha"
   ]
  },
  {
   "cell_type": "code",
   "metadata": {},
   "source": [
    "results_df.plot()\n",
    "plt.axhline(0, color='grey', linewidth=0.5, alpha=0.3, linestyle='dotted')\n",
    "plt.ylim(-0.05, 1)\n",
    "plt.xlim((0, 4.5))\n",
    "\n",
    "plt.xlabel('Logistic steepness parameter (k)')\n",
    "plt.ylabel('Forecast value (RUV)')\n",
    "plt.title('Impact of damage function steepness on forecast value for different values of alpha', fontsize='medium')\n",
    "plt.legend()"
   ],
   "outputs": [],
   "execution_count": null
  },
  {
   "cell_type": "code",
   "execution_count": null,
   "metadata": {},
   "outputs": [],
   "source": []
  }
 ],
 "metadata": {
  "kernelspec": {
   "display_name": "Python 3 (ipykernel)",
   "language": "python",
   "name": "python3"
  },
  "language_info": {
   "codemirror_mode": {
    "name": "ipython",
    "version": 3
   },
   "file_extension": ".py",
   "mimetype": "text/x-python",
   "name": "python",
   "nbconvert_exporter": "python",
   "pygments_lexer": "ipython3",
   "version": "3.8.10"
  }
 },
 "nbformat": 4,
 "nbformat_minor": 4
}

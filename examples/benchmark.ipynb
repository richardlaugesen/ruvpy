{
 "cells": [
  {
   "metadata": {
    "ExecuteTime": {
     "end_time": "2024-09-11T11:18:51.633391Z",
     "start_time": "2024-09-11T11:18:50.421446Z"
    }
   },
   "cell_type": "code",
   "source": [
    "import timeit\n",
    "import statistics\n",
    "import sys\n",
    "import os\n",
    "from matplotlib import pyplot as plt\n",
    "\n",
    "sys.path.append('..')\n",
    "\n",
    "from ruv.relative_utility_value import *\n",
    "from ruv.damage_functions import *\n",
    "from ruv.economic_models import *\n",
    "from ruv.utility_functions import *\n",
    "from ruv.helpers import *\n",
    "from ruv.decision_methods import *"
   ],
   "id": "d47a04926b21112e",
   "outputs": [],
   "execution_count": 1
  },
  {
   "cell_type": "code",
   "id": "2d5d2ffdf07cc734",
   "metadata": {
    "ExecuteTime": {
     "end_time": "2024-09-11T11:18:51.646753Z",
     "start_time": "2024-09-11T11:18:51.637401Z"
    }
   },
   "source": [
    "def load_data(awrc, start_lt, end_lt, area, scenario='muthre', input_path='../../muthre_results/muthre_csv'):\n",
    "    print('Loading data')\n",
    "    results = load_from_csv(awrc, start_lt, end_lt, scenario, input_path)\n",
    "    results = mm_to_m3s(results, area)\n",
    "    return results['obs'], results['fcst'], results['clim']\n",
    "\n",
    "\n",
    "# fetch data from MUTHRE CSV file for single AWRC, scenario, and range of lead-times\n",
    "# Replace missing forecast values with mean of each ensemble for each timestep (notify user)\n",
    "# Create a non-ragged climatology with missing values removed\n",
    "def load_from_csv(awrc, start_lt, end_lt, scenario='muthre', input_path='muthre_csv'):\n",
    "    print('\\tLoading data for %s/%s from lead-time %d to %d' % (awrc, scenario, start_lt, end_lt))\n",
    "\n",
    "    obs_fcst_df = pd.read_csv(os.path.join(input_path, awrc, '%s-%s.csv.gz' % (awrc, scenario)), index_col=0, parse_dates=True, compression='gzip')\n",
    "    clim_df = pd.read_csv(os.path.join(input_path, awrc, '%s-%s.csv.gz' % (awrc, 'climatology')), index_col=0, parse_dates=True, compression='gzip')\n",
    "\n",
    "    obs, fcst_ens, clim = get_data(obs_fcst_df, clim_df, start_lt, end_lt)\n",
    "    print('\\tobs shape: %s, fcst_ens shape: %s, clim shape: %s' % (obs.shape, fcst_ens.shape, clim.shape))\n",
    "\n",
    "    return {\n",
    "        'obs': obs,\n",
    "        'clim': clim,\n",
    "        'fcst': fcst_ens\n",
    "    }\n",
    "\n",
    "\n",
    "# Parse dataframes from MUTHRE CSV file for lead-time\n",
    "# TODO: sort out all these unnessary transposes\n",
    "def get_data(obs_fcst_df, clim_df, start_leadtime, end_leadtime):\n",
    "    obs_fcst_df = get_leadtime(obs_fcst_df, start_leadtime, end_leadtime)\n",
    "    obs = get_obs(obs_fcst_df).values\n",
    "    fcst_ens = get_ensemble(obs_fcst_df).T.values\n",
    "\n",
    "    # replace any missing fcst ens values with the mean of each ensemble for each timestep\n",
    "    tmp = fcst_ens.T\n",
    "    count = 0\n",
    "    for i in range(tmp.shape[0]):\n",
    "        j = np.where(np.isnan(tmp[i]))\n",
    "        tmp[i][j] = np.nanmean(tmp[i])\n",
    "        count += len(j[0])\n",
    "    fcst_ens = tmp.T\n",
    "\n",
    "    if count > 0:\n",
    "        print('\\t%d missing values out of %d detected in forecast ensemble, replaced with ensemble mean for each timestep' % (count, fcst_ens.size))\n",
    "\n",
    "    # create non-ragged climatology with missing values removed\n",
    "    clim = clean_clim(get_ensemble(get_leadtime(clim_df, start_leadtime, end_leadtime))).T if clim_df is not None else None\n",
    "\n",
    "    return obs, fcst_ens.T, clim.T\n",
    "\n",
    "\n",
    "def get_obs(df):\n",
    "    return df.obs\n",
    "\n",
    "\n",
    "# return all the xth lead-time\n",
    "def get_leadtime(df, lt_day_of_mth_start, lt_day_of_mth_end):\n",
    "    if lt_day_of_mth_start == 'all':\n",
    "        return df\n",
    "\n",
    "    lt_day_of_mth_start = int(lt_day_of_mth_start)\n",
    "    lt_day_of_mth_end = int(lt_day_of_mth_end)\n",
    "\n",
    "    idx = df.index\n",
    "    lt_val = []\n",
    "    for lt in range(lt_day_of_mth_start, lt_day_of_mth_end+1):\n",
    "        lt_idx = idx.groupby(idx.day)[lt]\n",
    "        lt_val.append(df.loc[lt_idx])\n",
    "\n",
    "    lt_val = pd.concat(lt_val)\n",
    "    lt_val.sort_index(inplace=True)\n",
    "\n",
    "    return lt_val\n",
    "\n",
    "\n",
    "def get_ensemble(df):\n",
    "    ens_cols = list(df.columns)\n",
    "    ens_cols.remove('obs')\n",
    "    ens_cols.remove('date')\n",
    "    return df[ens_cols]\n",
    "\n",
    "\n",
    "# return a non-ragged climatology with missing values removed\n",
    "def clean_clim(df):\n",
    "    max_size_ens = (df.shape[1] - df.T.isna().sum()).min()  # eg. 496 non-NA members for LT 7 of Biggara\n",
    "    ens = np.full((len(df), max_size_ens), np.nan)\n",
    "    for i,irow in enumerate(df.iterrows()):\n",
    "        row = irow[1]\n",
    "        ens[i] = row.dropna()[0:max_size_ens] #.sample(max_size_ens)\n",
    "    return ens\n",
    "\n",
    "\n",
    "def mm_to_m3s(results, area):\n",
    "    factor = area * 1000 / (60 * 60 * 24)\n",
    "    results['obs'] = results['obs'] * factor\n",
    "    results['fcst'] = results['fcst'] * factor\n",
    "    results['clim'] = results['clim'] * factor\n",
    "    return results"
   ],
   "outputs": [],
   "execution_count": 2
  },
  {
   "metadata": {
    "ExecuteTime": {
     "end_time": "2024-09-11T11:18:51.788633Z",
     "start_time": "2024-09-11T11:18:51.785181Z"
    }
   },
   "cell_type": "code",
   "source": [
    "awrc = '405209'\n",
    "name = 'Acheron River at Tagerty'\n",
    "area = 629.4\n",
    "\n",
    "start_lt=1\n",
    "end_lt=30\n",
    "\n",
    "target_unity_risk_aversion = 0.3\n",
    "max_damages = 10000\n",
    "damages_quantile_threshold = 0.99\n",
    "damages_shape = 0.2\n",
    "\n",
    "num_alphas = 10\n",
    "benchmark_repeats = 20\n",
    "num_timesteps = 50\n",
    "\n",
    "benchmark_name = '5'"
   ],
   "id": "539e5f8d473c29c3",
   "outputs": [],
   "execution_count": 3
  },
  {
   "metadata": {
    "ExecuteTime": {
     "end_time": "2024-09-11T11:18:51.806347Z",
     "start_time": "2024-09-11T11:18:51.801181Z"
    }
   },
   "cell_type": "code",
   "source": [
    "verbose = False\n",
    "alphas = np.linspace(1/num_alphas, 1-1/num_alphas, num_alphas)\n",
    "target_risk_premium = risk_aversion_coef_to_risk_premium(target_unity_risk_aversion, 1)\n",
    "adjusted_risk_aversion = risk_premium_to_risk_aversion_coef(target_risk_premium, max_damages)"
   ],
   "id": "420a088e0a818650",
   "outputs": [
    {
     "name": "stderr",
     "output_type": "stream",
     "text": [
      "C:\\Users\\me\\work\\research\\software\\relative-utility-value\\ruv\\helpers.py:64: RuntimeWarning: overflow encountered in exp\n",
      "  return np.log(0.5 * (np.exp(-A * gamble_size) + np.exp(A * gamble_size))) / (A * gamble_size) - risk_premium\n"
     ]
    }
   ],
   "execution_count": 4
  },
  {
   "metadata": {
    "ExecuteTime": {
     "end_time": "2024-09-11T11:18:53.933564Z",
     "start_time": "2024-09-11T11:18:51.827851Z"
    }
   },
   "cell_type": "code",
   "source": [
    "obs, fcst, clim = load_data(awrc, start_lt, end_lt, area)\n",
    "ref = clim\n",
    "obs = obs[0:num_timesteps]\n",
    "fcst = fcst[0:num_timesteps]\n",
    "ref = ref[0:num_timesteps]"
   ],
   "id": "603271b959bc6ab4",
   "outputs": [
    {
     "name": "stdout",
     "output_type": "stream",
     "text": [
      "Loading data\n",
      "\tLoading data for 405209/muthre from lead-time 1 to 30\n",
      "\tobs shape: (8240,), fcst_ens shape: (8240, 100), clim shape: (8240, 508)\n"
     ]
    }
   ],
   "execution_count": 5
  },
  {
   "metadata": {
    "ExecuteTime": {
     "end_time": "2024-09-11T11:18:53.947529Z",
     "start_time": "2024-09-11T11:18:53.943494Z"
    }
   },
   "cell_type": "code",
   "source": [
    "decision_definition = {\n",
    "    'damage_function': [logistic, {'A': max_damages, 'k': damages_shape, 'threshold': np.nanquantile(obs, damages_quantile_threshold)}],\n",
    "    'utility_function': [cara, {'A': adjusted_risk_aversion}],\n",
    "    'economic_model': [cost_loss, cost_loss_analytical_spend, alphas],\n",
    "    'decision_thresholds': np.arange(0, 20, 2),\n",
    "    'decision_making_method': [optimise_over_forecast_distribution, None],\n",
    "}"
   ],
   "id": "a9ed134af34e75c",
   "outputs": [],
   "execution_count": 6
  },
  {
   "metadata": {
    "ExecuteTime": {
     "end_time": "2024-09-11T11:20:59.622122Z",
     "start_time": "2024-09-11T11:18:53.958111Z"
    }
   },
   "cell_type": "code",
   "source": [
    "results = {}\n",
    "print('Starting benchmark')\n",
    "\n",
    "for cores in range(1, 9):\n",
    "    benchmark_results = timeit.repeat(\n",
    "        lambda: relative_utility_value(obs, fcst, ref, decision_definition, parallel_nodes=cores), number=1, repeat=benchmark_repeats)\n",
    "\n",
    "    times = np.array(benchmark_results) / num_alphas / num_timesteps * 1000\n",
    "\n",
    "    print('\\n%d timesteps with cores=%d' % (num_timesteps, cores))\n",
    "    print('Mean time per alpha per timestep: %.4f +/- %.4f ms' % (statistics.mean(times), statistics.stdev(times)))\n",
    "    \n",
    "    if cores > 1:\n",
    "        print('Speedup factor: %.4f (vs %d)' % (statistics.mean(results[1]) / statistics.mean(times), cores))\n",
    "\n",
    "    results[cores] = times"
   ],
   "id": "f20179f504eec63f",
   "outputs": [
    {
     "name": "stdout",
     "output_type": "stream",
     "text": [
      "Starting benchmark\n",
      "\n",
      "50 timesteps with cores=1\n",
      "Mean time per alpha per timestep: 1.6034 +/- 0.2433 ms\n",
      "\n",
      "50 timesteps with cores=2\n",
      "Mean time per alpha per timestep: 1.2913 +/- 0.3710 ms\n",
      "Speedup factor: 1.2417 (vs 2)\n",
      "\n",
      "50 timesteps with cores=3\n",
      "Mean time per alpha per timestep: 1.3724 +/- 0.6513 ms\n",
      "Speedup factor: 1.1683 (vs 3)\n",
      "\n",
      "50 timesteps with cores=4\n",
      "Mean time per alpha per timestep: 1.2693 +/- 0.5300 ms\n",
      "Speedup factor: 1.2632 (vs 4)\n",
      "\n",
      "50 timesteps with cores=5\n",
      "Mean time per alpha per timestep: 1.4330 +/- 0.6137 ms\n",
      "Speedup factor: 1.1189 (vs 5)\n",
      "\n",
      "50 timesteps with cores=6\n",
      "Mean time per alpha per timestep: 1.7278 +/- 0.9280 ms\n",
      "Speedup factor: 0.9280 (vs 6)\n",
      "\n",
      "50 timesteps with cores=7\n",
      "Mean time per alpha per timestep: 1.9337 +/- 1.3036 ms\n",
      "Speedup factor: 0.8292 (vs 7)\n",
      "\n",
      "50 timesteps with cores=8\n",
      "Mean time per alpha per timestep: 1.9339 +/- 2.1588 ms\n",
      "Speedup factor: 0.8291 (vs 8)\n"
     ]
    }
   ],
   "execution_count": 7
  },
  {
   "metadata": {
    "ExecuteTime": {
     "end_time": "2024-09-11T11:20:59.657226Z",
     "start_time": "2024-09-11T11:20:59.645351Z"
    }
   },
   "cell_type": "code",
   "source": [
    "msec_per_alpha_timestep = pd.DataFrame(results)\n",
    "msec_per_alpha_timestep.to_csv('benchmark_results_%s.csv' % benchmark_name)"
   ],
   "id": "cb350d15ce14fbf",
   "outputs": [],
   "execution_count": 8
  },
  {
   "metadata": {
    "ExecuteTime": {
     "end_time": "2024-09-11T11:20:59.690793Z",
     "start_time": "2024-09-11T11:20:59.685891Z"
    }
   },
   "cell_type": "code",
   "source": [
    "mean_msec_per_alpha_timestep = msec_per_alpha_timestep.mean(axis=0)\n",
    "speedups = mean_msec_per_alpha_timestep.iloc[0] / mean_msec_per_alpha_timestep"
   ],
   "id": "25880b7978bcfc75",
   "outputs": [],
   "execution_count": 9
  },
  {
   "metadata": {
    "ExecuteTime": {
     "end_time": "2024-09-11T11:21:00.474603Z",
     "start_time": "2024-09-11T11:20:59.744080Z"
    }
   },
   "cell_type": "code",
   "source": [
    "plt.subplots(1, 2, figsize=(15, 5))\n",
    "ax1 = plt.subplot(1, 2, 1)\n",
    "speedups.plot(ax=ax1, xlabel='# CPU Cores', ylabel='Speedup factor', title='Average RUV speedup factor per core')\n",
    "ax1.plot(range(1, 9), range(1, 9), linestyle=':', color='red')\n",
    "ax2 = plt.subplot(1, 2, 2)\n",
    "mean_msec_per_alpha_timestep.plot(ax=ax2, xlabel='# CPU Cores', ylabel='Average time (ms)', title='Mean RUV calculation time per timestep per alpha')\n",
    "plt.savefig('benchmark_results_%s.png' % benchmark_name)"
   ],
   "id": "c27b2780ad58b03a",
   "outputs": [
    {
     "data": {
      "text/plain": [
       "<Figure size 1500x500 with 2 Axes>"
      ],
      "image/png": "[encoded data removed]"
     },
     "metadata": {},
     "output_type": "display_data"
    }
   ],
   "execution_count": 10
  },
  {
   "metadata": {
    "ExecuteTime": {
     "end_time": "2024-09-11T11:21:00.513412Z",
     "start_time": "2024-09-11T11:21:00.509040Z"
    }
   },
   "cell_type": "code",
   "source": "",
   "id": "f48cdfe37cbc42ec",
   "outputs": [],
   "execution_count": null
  }
 ],
 "metadata": {
  "kernelspec": {
   "display_name": "Python 3",
   "language": "python",
   "name": "python3"
  },
  "language_info": {
   "codemirror_mode": {
    "name": "ipython",
    "version": 2
   },
   "file_extension": ".py",
   "mimetype": "text/x-python",
   "name": "python",
   "nbconvert_exporter": "python",
   "pygments_lexer": "ipython2",
   "version": "2.7.6"
  }
 },
 "nbformat": 4,
 "nbformat_minor": 5
}
